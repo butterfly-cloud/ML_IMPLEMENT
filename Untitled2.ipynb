{
 "cells": [
  {
   "cell_type": "code",
   "execution_count": 26,
   "metadata": {
    "collapsed": true
   },
   "outputs": [],
   "source": [
    "#coding=utf-8\n",
    "import numpy as np\n",
    "import pandas as pd\n",
    "from math import log"
   ]
  },
  {
   "cell_type": "code",
   "execution_count": 3,
   "metadata": {
    "collapsed": false
   },
   "outputs": [],
   "source": [
    "mydat = [\n",
    "    [1,1,'yes'],\n",
    "    [1,1,'yes'],\n",
    "    [1,0,'no'],\n",
    "    [0,1,'no'],\n",
    "    [0,1,'no']\n",
    "]"
   ]
  },
  {
   "cell_type": "code",
   "execution_count": 4,
   "metadata": {
    "collapsed": true
   },
   "outputs": [],
   "source": []
  },
  {
   "cell_type": "code",
   "execution_count": 31,
   "metadata": {
    "collapsed": false
   },
   "outputs": [
    {
     "name": "stdout",
     "output_type": "stream",
     "text": [
      "0.4\n",
      "0.6\n"
     ]
    },
    {
     "data": {
      "text/plain": [
       "0.9709505944546686"
      ]
     },
     "execution_count": 31,
     "metadata": {},
     "output_type": "execute_result"
    }
   ],
   "source": [
    "class_nums = {}\n",
    "for v in mydat:\n",
    "    class_nums[v[-1]] = class_nums.get(v[-1], 0) + 1\n",
    "    \n",
    "entropy = 0.0\n",
    "for v in class_nums:\n",
    "    prob = class_nums[v] * 1.0 / len(mydat)\n",
    "    print prob\n",
    "    entropy -= prob * log(prob, 2)\n",
    "entropy"
   ]
  },
  {
   "cell_type": "code",
   "execution_count": 20,
   "metadata": {
    "collapsed": false
   },
   "outputs": [
    {
     "data": {
      "text/plain": [
       "{'no': 3, 'yes': 2}"
      ]
     },
     "execution_count": 20,
     "metadata": {},
     "output_type": "execute_result"
    }
   ],
   "source": [
    "class_nums"
   ]
  },
  {
   "cell_type": "code",
   "execution_count": 32,
   "metadata": {
    "collapsed": true
   },
   "outputs": [],
   "source": [
    "def calc(dataset):\n",
    "    numEntries = len(dataset)\n",
    "    labels = {}\n",
    "    for v in dataset:\n",
    "        current = v[-1]\n",
    "        if current not in labels.keys():\n",
    "            labels[current] = 0\n",
    "        labels[current] += 1\n",
    "    \n",
    "#     print labels\n",
    "    shannon = 0.0\n",
    "    for key in labels:\n",
    "        prob = float(labels[key]) / numEntries\n",
    "#         print prob\n",
    "        shannon -= prob * np.log(prob)\n",
    "    return shannon"
   ]
  },
  {
   "cell_type": "code",
   "execution_count": 33,
   "metadata": {
    "collapsed": false
   },
   "outputs": [
    {
     "data": {
      "text/plain": [
       "0.6730116670092565"
      ]
     },
     "execution_count": 33,
     "metadata": {},
     "output_type": "execute_result"
    }
   ],
   "source": [
    "calc(mydat)"
   ]
  },
  {
   "cell_type": "code",
   "execution_count": 27,
   "metadata": {
    "collapsed": false
   },
   "outputs": [
    {
     "data": {
      "text/plain": [
       "0.9709505944546686"
      ]
     },
     "execution_count": 27,
     "metadata": {},
     "output_type": "execute_result"
    }
   ],
   "source": [
    "shannon = 0.0\n",
    "for prob in [0.4, 0.6]:\n",
    "    shannon -= prob * log(prob, 2)\n",
    "shannon"
   ]
  },
  {
   "cell_type": "code",
   "execution_count": 29,
   "metadata": {
    "collapsed": false
   },
   "outputs": [
    {
     "data": {
      "text/plain": [
       "1.0"
      ]
     },
     "execution_count": 29,
     "metadata": {},
     "output_type": "execute_result"
    }
   ],
   "source": [
    "log(2,2)"
   ]
  },
  {
   "cell_type": "code",
   "execution_count": 34,
   "metadata": {
    "collapsed": true
   },
   "outputs": [],
   "source": [
    "def get_weight(score):\n",
    "    score_interval = [0, 0.93, 0.952, 0.961, 0.967, 1]\n",
    "    w = 1.0\n",
    "    if pd.isnull(score):\n",
    "        return w\n",
    "    if score <= score_interval[1]:\n",
    "        w = linear_convert(score_interval[0], score_interval[1], 0.2, 0.5, score)\n",
    "    elif score_interval[1] < score <= score_interval[2]:\n",
    "        w = linear_convert(score_interval[1], score_interval[2], 0.5, 0.8, score)\n",
    "    elif score_interval[2] < score <= score_interval[3]:\n",
    "        w = linear_convert(score_interval[2], score_interval[3], 0.8, 1.3, score)\n",
    "    elif score_interval[3] < score <= score_interval[4]:\n",
    "        w = linear_convert(score_interval[3], score_interval[4], 1.3, 2, score)\n",
    "    else:\n",
    "        w = linear_convert(score_interval[4], score_interval[5], 2, 2.5, score)\n",
    "    return w\n",
    "\n",
    "\n",
    "def linear_convert(start, end, start_val, end_val, target):\n",
    "    if target < start:\n",
    "        return start_val\n",
    "    if target > end:\n",
    "        return end\n",
    "    return float(target - start) * float(end_val - start_val) / float(end - start) + start_val"
   ]
  },
  {
   "cell_type": "code",
   "execution_count": 38,
   "metadata": {
    "collapsed": false
   },
   "outputs": [
    {
     "data": {
      "text/plain": [
       "0.5"
      ]
     },
     "execution_count": 38,
     "metadata": {},
     "output_type": "execute_result"
    }
   ],
   "source": [
    "get_weight(0.93)"
   ]
  },
  {
   "cell_type": "code",
   "execution_count": null,
   "metadata": {
    "collapsed": true
   },
   "outputs": [],
   "source": []
  }
 ],
 "metadata": {
  "kernelspec": {
   "display_name": "Python [default]",
   "language": "python",
   "name": "python2"
  },
  "language_info": {
   "codemirror_mode": {
    "name": "ipython",
    "version": 2
   },
   "file_extension": ".py",
   "mimetype": "text/x-python",
   "name": "python",
   "nbconvert_exporter": "python",
   "pygments_lexer": "ipython2",
   "version": "2.7.12"
  }
 },
 "nbformat": 4,
 "nbformat_minor": 1
}
