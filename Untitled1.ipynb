{
 "cells": [
  {
   "cell_type": "code",
   "execution_count": 108,
   "metadata": {
    "collapsed": false
   },
   "outputs": [
    {
     "name": "stderr",
     "output_type": "stream",
     "text": [
      "/Users/yixin/anaconda2/lib/python2.7/site-packages/matplotlib/font_manager.py:273: UserWarning: Matplotlib is building the font cache using fc-list. This may take a moment.\n",
      "  warnings.warn('Matplotlib is building the font cache using fc-list. This may take a moment.')\n"
     ]
    }
   ],
   "source": [
    "#coding=utf-8\n",
    "import pandas as pd\n",
    "import numpy as np\n",
    "import json\n",
    "\n",
    "%matplotlib inline \n",
    "import matplotlib \n",
    "import matplotlib.pyplot as plt "
   ]
  },
  {
   "cell_type": "code",
   "execution_count": 58,
   "metadata": {
    "collapsed": true
   },
   "outputs": [],
   "source": [
    "df = pd.read_csv('/Users/yixin/Downloads/amazon_revolve3.csv', encoding='gb18030')"
   ]
  },
  {
   "cell_type": "code",
   "execution_count": 59,
   "metadata": {
    "collapsed": false
   },
   "outputs": [
    {
     "data": {
      "text/plain": [
       "id                                   int64\n",
       "application_id                       int64\n",
       "platform_group_type                 object\n",
       "total_amount_cents                   int64\n",
       "casual_amount_cents                  int64\n",
       "expires_at                          object\n",
       "is_deleted                           int64\n",
       "deleted_at                          object\n",
       "created                             object\n",
       "updated                             object\n",
       "id.1                                 int64\n",
       "user_id                              int64\n",
       "is_current                           int64\n",
       "application_id.1                     int64\n",
       "transport_id                         int64\n",
       "created.1                           object\n",
       "updated.1                           object\n",
       "id.2                                 int64\n",
       "transport_id.1                       int64\n",
       "ext_attr                            object\n",
       "ext_data                            object\n",
       "memo                               float64\n",
       "created_by                         float64\n",
       "created_at                          object\n",
       "last_modified_by                   float64\n",
       "last_modified_at                    object\n",
       "transport_id.2                       int64\n",
       "id_revolving_count                   int64\n",
       "id_apply_before_completed_count      int64\n",
       "application_id.2                    object\n",
       "amount_cents                        object\n",
       "months                              object\n",
       "loan_day                            object\n",
       "dtype: object"
      ]
     },
     "execution_count": 59,
     "metadata": {},
     "output_type": "execute_result"
    }
   ],
   "source": [
    "df.dtypes"
   ]
  },
  {
   "cell_type": "code",
   "execution_count": 211,
   "metadata": {
    "collapsed": false
   },
   "outputs": [],
   "source": [
    "testt = df[df.transport_id==213327].ext_data.iloc[0]"
   ]
  },
  {
   "cell_type": "code",
   "execution_count": 217,
   "metadata": {
    "collapsed": false
   },
   "outputs": [
    {
     "data": {
      "text/plain": [
       "24"
      ]
     },
     "execution_count": 217,
     "metadata": {},
     "output_type": "execute_result"
    }
   ],
   "source": [
    "aset = set()\n",
    "for acc in json.loads(testt)['extra_info']['detail']['accounts']:\n",
    "    if acc['is_pass'] == 1:\n",
    "        aset.add(acc['account_name_parsed'])\n",
    "len(aset)"
   ]
  },
  {
   "cell_type": "code",
   "execution_count": null,
   "metadata": {
    "collapsed": true
   },
   "outputs": [],
   "source": []
  },
  {
   "cell_type": "code",
   "execution_count": null,
   "metadata": {
    "collapsed": true
   },
   "outputs": [],
   "source": []
  },
  {
   "cell_type": "code",
   "execution_count": 60,
   "metadata": {
    "collapsed": true
   },
   "outputs": [],
   "source": [
    "df['amount_cents'] = df.amount_cents.apply(lambda x : 0 if x == 'null' else float(x))"
   ]
  },
  {
   "cell_type": "code",
   "execution_count": 61,
   "metadata": {
    "collapsed": false
   },
   "outputs": [
    {
     "data": {
      "text/plain": [
       "12      1204\n",
       "6        639\n",
       "4        521\n",
       "null     483\n",
       "3        145\n",
       "2        133\n",
       "24        64\n",
       "1         12\n",
       "Name: months, dtype: int64"
      ]
     },
     "execution_count": 61,
     "metadata": {},
     "output_type": "execute_result"
    }
   ],
   "source": [
    "df.months.value_counts()"
   ]
  },
  {
   "cell_type": "code",
   "execution_count": 62,
   "metadata": {
    "collapsed": true
   },
   "outputs": [],
   "source": [
    "df = df[df.months.isin(['4','6','12'])]"
   ]
  },
  {
   "cell_type": "code",
   "execution_count": 63,
   "metadata": {
    "collapsed": false
   },
   "outputs": [
    {
     "data": {
      "text/plain": [
       "(2364, 33)"
      ]
     },
     "execution_count": 63,
     "metadata": {},
     "output_type": "execute_result"
    }
   ],
   "source": [
    "df.shape"
   ]
  },
  {
   "cell_type": "code",
   "execution_count": 64,
   "metadata": {
    "collapsed": false
   },
   "outputs": [],
   "source": [
    "df_new = df[(df.id_apply_before_completed_count==0)&(df.id_revolving_count==0)]"
   ]
  },
  {
   "cell_type": "code",
   "execution_count": 65,
   "metadata": {
    "collapsed": false
   },
   "outputs": [
    {
     "data": {
      "text/plain": [
       "(655, 33)"
      ]
     },
     "execution_count": 65,
     "metadata": {},
     "output_type": "execute_result"
    }
   ],
   "source": [
    "df_new.shape"
   ]
  },
  {
   "cell_type": "code",
   "execution_count": 66,
   "metadata": {
    "collapsed": false
   },
   "outputs": [
    {
     "data": {
      "text/html": [
       "<div>\n",
       "<table border=\"1\" class=\"dataframe\">\n",
       "  <thead>\n",
       "    <tr style=\"text-align: right;\">\n",
       "      <th></th>\n",
       "      <th>id</th>\n",
       "      <th>application_id</th>\n",
       "      <th>platform_group_type</th>\n",
       "      <th>total_amount_cents</th>\n",
       "      <th>casual_amount_cents</th>\n",
       "      <th>expires_at</th>\n",
       "      <th>is_deleted</th>\n",
       "      <th>deleted_at</th>\n",
       "      <th>created</th>\n",
       "      <th>updated</th>\n",
       "      <th>...</th>\n",
       "      <th>created_at</th>\n",
       "      <th>last_modified_by</th>\n",
       "      <th>last_modified_at</th>\n",
       "      <th>transport_id.2</th>\n",
       "      <th>id_revolving_count</th>\n",
       "      <th>id_apply_before_completed_count</th>\n",
       "      <th>application_id.2</th>\n",
       "      <th>amount_cents</th>\n",
       "      <th>months</th>\n",
       "      <th>loan_day</th>\n",
       "    </tr>\n",
       "  </thead>\n",
       "  <tbody>\n",
       "    <tr>\n",
       "      <th>0</th>\n",
       "      <td>27</td>\n",
       "      <td>37</td>\n",
       "      <td>oversea</td>\n",
       "      <td>31000000</td>\n",
       "      <td>0</td>\n",
       "      <td>2014-09-22 18:51:41.0</td>\n",
       "      <td>0</td>\n",
       "      <td>null</td>\n",
       "      <td>2015-07-06 23:59:16.0</td>\n",
       "      <td>2015-07-06 23:59:16.0</td>\n",
       "      <td>...</td>\n",
       "      <td>2015-11-12 10:20:58.0</td>\n",
       "      <td>NaN</td>\n",
       "      <td>2018-05-08 07:24:35.0</td>\n",
       "      <td>14</td>\n",
       "      <td>0</td>\n",
       "      <td>0</td>\n",
       "      <td>37</td>\n",
       "      <td>31000000.0</td>\n",
       "      <td>6</td>\n",
       "      <td>5</td>\n",
       "    </tr>\n",
       "  </tbody>\n",
       "</table>\n",
       "<p>1 rows × 33 columns</p>\n",
       "</div>"
      ],
      "text/plain": [
       "   id  application_id platform_group_type  total_amount_cents  \\\n",
       "0  27              37             oversea            31000000   \n",
       "\n",
       "   casual_amount_cents             expires_at  is_deleted deleted_at  \\\n",
       "0                    0  2014-09-22 18:51:41.0           0       null   \n",
       "\n",
       "                 created                updated   ...     \\\n",
       "0  2015-07-06 23:59:16.0  2015-07-06 23:59:16.0   ...      \n",
       "\n",
       "              created_at  last_modified_by       last_modified_at  \\\n",
       "0  2015-11-12 10:20:58.0               NaN  2018-05-08 07:24:35.0   \n",
       "\n",
       "   transport_id.2  id_revolving_count id_apply_before_completed_count  \\\n",
       "0              14                   0                               0   \n",
       "\n",
       "  application_id.2  amount_cents  months loan_day  \n",
       "0               37    31000000.0       6        5  \n",
       "\n",
       "[1 rows x 33 columns]"
      ]
     },
     "execution_count": 66,
     "metadata": {},
     "output_type": "execute_result"
    }
   ],
   "source": [
    "# print df_new.ext_data.iloc[0]\n",
    "df_new.head(1)"
   ]
  },
  {
   "cell_type": "code",
   "execution_count": 284,
   "metadata": {
    "collapsed": true
   },
   "outputs": [],
   "source": [
    "ans = []\n",
    "\n",
    "for k, v in df_new.iterrows():\n",
    "    try:\n",
    "        sample = {}\n",
    "        sample['total_amount_cents'] = v['total_amount_cents']\n",
    "        sample['use_amount_cents'] = v['amount_cents']\n",
    "        sample['months'] = v['months']\n",
    "        ext_data = json.loads(v['ext_data'])\n",
    "        accs = ext_data['extra_info']['detail']['accounts']\n",
    "        amazon = 0.0\n",
    "        other = 0.0\n",
    "        amazon_num = 0\n",
    "        \n",
    "        filters = set()\n",
    "        \n",
    "        for acc in accs:\n",
    "            if acc['is_pass'] == 1:\n",
    "                if acc['account_type'] == 'AMAZON':\n",
    "                    if acc['account_name_parsed'] in filters:\n",
    "                        continue\n",
    "                    else:\n",
    "                        filters.add(acc['account_name_parsed'])\n",
    "        \n",
    "                    amazon += acc['gmv_12']\n",
    "                    amazon_num += 1\n",
    "                else:\n",
    "                    other += acc['gmv_12']\n",
    "        sample['amazon_ratio'] = amazon / (amazon + other)\n",
    "        sample['amazon_num'] = amazon_num\n",
    "        sample['all_gmv12'] = ext_data['extra_info']['detail']['user']['gmv_12']\n",
    "        sample['amazon_gmv12'] = amazon\n",
    "        sample['transport_id'] = v['transport_id']\n",
    "        sample['created_at'] = v['created_at']\n",
    "        sample['limit'] = ext_data['extra_info']['detail']['user']['limit']\n",
    "    except:\n",
    "#         raise\n",
    "        continue\n",
    "        \n",
    "    ans.append(sample)\n",
    "    \n",
    "#     break"
   ]
  },
  {
   "cell_type": "code",
   "execution_count": 332,
   "metadata": {
    "collapsed": false
   },
   "outputs": [],
   "source": [
    "all_amazon = pd.DataFrame(ans)"
   ]
  },
  {
   "cell_type": "code",
   "execution_count": 333,
   "metadata": {
    "collapsed": false
   },
   "outputs": [
    {
     "data": {
      "text/plain": [
       "(639, 10)"
      ]
     },
     "execution_count": 333,
     "metadata": {},
     "output_type": "execute_result"
    }
   ],
   "source": [
    "all_amazon.shape"
   ]
  },
  {
   "cell_type": "code",
   "execution_count": 334,
   "metadata": {
    "collapsed": false
   },
   "outputs": [
    {
     "data": {
      "text/plain": [
       "(639, 10)"
      ]
     },
     "execution_count": 334,
     "metadata": {},
     "output_type": "execute_result"
    }
   ],
   "source": [
    "all_amazon.shape"
   ]
  },
  {
   "cell_type": "code",
   "execution_count": 335,
   "metadata": {
    "collapsed": true
   },
   "outputs": [],
   "source": [
    "all_amazon.to_csv('/Users/yixin/Downloads/amazon_actural.csv', encoding='gb18030')"
   ]
  },
  {
   "cell_type": "code",
   "execution_count": 336,
   "metadata": {
    "collapsed": true
   },
   "outputs": [],
   "source": [
    "all_amazon['use_amount_cents'] = all_amazon.use_amount_cents.apply(lambda x : 0 if x is None else float(x))"
   ]
  },
  {
   "cell_type": "code",
   "execution_count": 337,
   "metadata": {
    "collapsed": false
   },
   "outputs": [],
   "source": [
    "all_amazon['exchange_rate'] = all_amazon.months.apply(lambda x : 3.7 if x == 6 else 3 if x == 4 else 4.7)\n",
    "all_amazon['real_granted_amount'] = all_amazon.total_amount_cents * all_amazon.exchange_rate / 3.7"
   ]
  },
  {
   "cell_type": "code",
   "execution_count": 338,
   "metadata": {
    "collapsed": false
   },
   "outputs": [],
   "source": [
    "all_amazon['withdrawal_rate'] = all_amazon.use_amount_cents * 1.0 / all_amazon.real_granted_amount"
   ]
  },
  {
   "cell_type": "code",
   "execution_count": 339,
   "metadata": {
    "collapsed": false
   },
   "outputs": [],
   "source": [
    "# all_amazon.sort_values('withdrawal_rate').tail(10)"
   ]
  },
  {
   "cell_type": "code",
   "execution_count": 340,
   "metadata": {
    "collapsed": true
   },
   "outputs": [],
   "source": [
    "all_amazon['withdrawal_rate'] = all_amazon.withdrawal_rate.apply(lambda x : min(x, 1.0))"
   ]
  },
  {
   "cell_type": "code",
   "execution_count": 341,
   "metadata": {
    "collapsed": false
   },
   "outputs": [],
   "source": [
    "all_amazon = all_amazon[all_amazon.amazon_ratio > 0.5]#.shape"
   ]
  },
  {
   "cell_type": "code",
   "execution_count": 342,
   "metadata": {
    "collapsed": false
   },
   "outputs": [],
   "source": [
    "all_amazon['amazon_granted'] = all_amazon.total_amount_cents * all_amazon.amazon_ratio\n",
    "all_amazon['amazon_withdrawal'] = all_amazon.amazon_granted * all_amazon.withdrawal_rate"
   ]
  },
  {
   "cell_type": "code",
   "execution_count": 343,
   "metadata": {
    "collapsed": false
   },
   "outputs": [
    {
     "data": {
      "text/plain": [
       "count    5.730000e+02\n",
       "mean     5.622570e+05\n",
       "std      1.473187e+06\n",
       "min      7.881800e+02\n",
       "25%      5.765887e+04\n",
       "50%      1.500752e+05\n",
       "75%      4.505749e+05\n",
       "max      1.546815e+07\n",
       "Name: amazon_gmv12, dtype: float64"
      ]
     },
     "execution_count": 343,
     "metadata": {},
     "output_type": "execute_result"
    }
   ],
   "source": [
    "all_amazon.amazon_gmv12.describe()"
   ]
  },
  {
   "cell_type": "code",
   "execution_count": 349,
   "metadata": {
    "collapsed": false
   },
   "outputs": [],
   "source": [
    "all_amazon['amazon_gmv_bin'] = pd.cut(all_amazon.amazon_gmv12, [0, 15000, 2e4, 3e4, 4e4, 5e4, 7e4, 1e5, 2e5,41e5, 2e7])"
   ]
  },
  {
   "cell_type": "code",
   "execution_count": 350,
   "metadata": {
    "collapsed": true
   },
   "outputs": [],
   "source": [
    "all_amazon['cnt'] = 1"
   ]
  },
  {
   "cell_type": "code",
   "execution_count": 351,
   "metadata": {
    "collapsed": false
   },
   "outputs": [
    {
     "data": {
      "text/plain": [
       "count    5.730000e+02\n",
       "mean     5.622570e+05\n",
       "std      1.473187e+06\n",
       "min      7.881800e+02\n",
       "25%      5.765887e+04\n",
       "50%      1.500752e+05\n",
       "75%      4.505749e+05\n",
       "max      1.546815e+07\n",
       "Name: amazon_gmv12, dtype: float64"
      ]
     },
     "execution_count": 351,
     "metadata": {},
     "output_type": "execute_result"
    }
   ],
   "source": [
    "all_amazon.amazon_gmv12.describe()"
   ]
  },
  {
   "cell_type": "code",
   "execution_count": 352,
   "metadata": {
    "collapsed": false
   },
   "outputs": [
    {
     "data": {
      "text/plain": [
       "count    5.730000e+02\n",
       "mean     2.276908e+07\n",
       "std      3.375773e+07\n",
       "min      5.000000e+05\n",
       "25%      5.000000e+06\n",
       "50%      1.240000e+07\n",
       "75%      2.755319e+07\n",
       "max      2.466667e+08\n",
       "Name: total_amount_cents, dtype: float64"
      ]
     },
     "execution_count": 352,
     "metadata": {},
     "output_type": "execute_result"
    }
   ],
   "source": [
    "all_amazon.total_amount_cents.describe()"
   ]
  },
  {
   "cell_type": "code",
   "execution_count": 362,
   "metadata": {
    "collapsed": false,
    "scrolled": true
   },
   "outputs": [
    {
     "data": {
      "text/html": [
       "<div>\n",
       "<table border=\"1\" class=\"dataframe\">\n",
       "  <thead>\n",
       "    <tr style=\"text-align: right;\">\n",
       "      <th></th>\n",
       "      <th>amazon_gmv12</th>\n",
       "      <th>limit</th>\n",
       "      <th>total_amount_cents</th>\n",
       "      <th>amazon_num</th>\n",
       "      <th>cnt</th>\n",
       "    </tr>\n",
       "    <tr>\n",
       "      <th>amazon_gmv_bin</th>\n",
       "      <th></th>\n",
       "      <th></th>\n",
       "      <th></th>\n",
       "      <th></th>\n",
       "      <th></th>\n",
       "    </tr>\n",
       "  </thead>\n",
       "  <tbody>\n",
       "    <tr>\n",
       "      <th>(0, 15000]</th>\n",
       "      <td>8864.8</td>\n",
       "      <td>66958.8</td>\n",
       "      <td>51961.5</td>\n",
       "      <td>1.3</td>\n",
       "      <td>26.0</td>\n",
       "    </tr>\n",
       "    <tr>\n",
       "      <th>(15000, 20000]</th>\n",
       "      <td>17519.5</td>\n",
       "      <td>64254.3</td>\n",
       "      <td>48171.2</td>\n",
       "      <td>1.2</td>\n",
       "      <td>18.0</td>\n",
       "    </tr>\n",
       "    <tr>\n",
       "      <th>(20000, 30000]</th>\n",
       "      <td>24373.6</td>\n",
       "      <td>61087.1</td>\n",
       "      <td>53136.0</td>\n",
       "      <td>1.6</td>\n",
       "      <td>31.0</td>\n",
       "    </tr>\n",
       "    <tr>\n",
       "      <th>(30000, 40000]</th>\n",
       "      <td>34583.5</td>\n",
       "      <td>101439.3</td>\n",
       "      <td>60865.9</td>\n",
       "      <td>1.6</td>\n",
       "      <td>27.0</td>\n",
       "    </tr>\n",
       "    <tr>\n",
       "      <th>(40000, 50000]</th>\n",
       "      <td>45405.1</td>\n",
       "      <td>116757.2</td>\n",
       "      <td>81199.8</td>\n",
       "      <td>1.4</td>\n",
       "      <td>23.0</td>\n",
       "    </tr>\n",
       "    <tr>\n",
       "      <th>(50000, 70000]</th>\n",
       "      <td>59160.5</td>\n",
       "      <td>197754.8</td>\n",
       "      <td>98957.9</td>\n",
       "      <td>1.7</td>\n",
       "      <td>40.0</td>\n",
       "    </tr>\n",
       "    <tr>\n",
       "      <th>(70000, 100000]</th>\n",
       "      <td>84613.8</td>\n",
       "      <td>225440.3</td>\n",
       "      <td>109644.9</td>\n",
       "      <td>1.8</td>\n",
       "      <td>58.0</td>\n",
       "    </tr>\n",
       "    <tr>\n",
       "      <th>(100000, 200000]</th>\n",
       "      <td>144800.1</td>\n",
       "      <td>293294.7</td>\n",
       "      <td>163265.5</td>\n",
       "      <td>1.9</td>\n",
       "      <td>105.0</td>\n",
       "    </tr>\n",
       "    <tr>\n",
       "      <th>(200000, 4100000]</th>\n",
       "      <td>818987.6</td>\n",
       "      <td>948811.6</td>\n",
       "      <td>466134.4</td>\n",
       "      <td>3.2</td>\n",
       "      <td>233.0</td>\n",
       "    </tr>\n",
       "    <tr>\n",
       "      <th>(4100000, 20000000]</th>\n",
       "      <td>8799304.0</td>\n",
       "      <td>1979519.4</td>\n",
       "      <td>1856831.8</td>\n",
       "      <td>5.3</td>\n",
       "      <td>12.0</td>\n",
       "    </tr>\n",
       "  </tbody>\n",
       "</table>\n",
       "</div>"
      ],
      "text/plain": [
       "                     amazon_gmv12      limit  total_amount_cents  amazon_num  \\\n",
       "amazon_gmv_bin                                                                 \n",
       "(0, 15000]                 8864.8    66958.8             51961.5         1.3   \n",
       "(15000, 20000]            17519.5    64254.3             48171.2         1.2   \n",
       "(20000, 30000]            24373.6    61087.1             53136.0         1.6   \n",
       "(30000, 40000]            34583.5   101439.3             60865.9         1.6   \n",
       "(40000, 50000]            45405.1   116757.2             81199.8         1.4   \n",
       "(50000, 70000]            59160.5   197754.8             98957.9         1.7   \n",
       "(70000, 100000]           84613.8   225440.3            109644.9         1.8   \n",
       "(100000, 200000]         144800.1   293294.7            163265.5         1.9   \n",
       "(200000, 4100000]        818987.6   948811.6            466134.4         3.2   \n",
       "(4100000, 20000000]     8799304.0  1979519.4           1856831.8         5.3   \n",
       "\n",
       "                       cnt  \n",
       "amazon_gmv_bin              \n",
       "(0, 15000]            26.0  \n",
       "(15000, 20000]        18.0  \n",
       "(20000, 30000]        31.0  \n",
       "(30000, 40000]        27.0  \n",
       "(40000, 50000]        23.0  \n",
       "(50000, 70000]        40.0  \n",
       "(70000, 100000]       58.0  \n",
       "(100000, 200000]     105.0  \n",
       "(200000, 4100000]    233.0  \n",
       "(4100000, 20000000]   12.0  "
      ]
     },
     "execution_count": 362,
     "metadata": {},
     "output_type": "execute_result"
    }
   ],
   "source": [
    "amazon_gp = all_amazon.groupby('amazon_gmv_bin').mean()\n",
    "amazon_gp['cnt'] = all_amazon.groupby('amazon_gmv_bin').cnt.sum()\n",
    "amazon_gp['total_amount_cents'] = amazon_gp.total_amount_cents / 370 * 4.7\n",
    "amazon_gp = amazon_gp.applymap(lambda x : round(x, 1))\n",
    "amazon_gp[['amazon_gmv12', 'limit','total_amount_cents','amazon_num','cnt']]"
   ]
  },
  {
   "cell_type": "code",
   "execution_count": 363,
   "metadata": {
    "collapsed": false
   },
   "outputs": [
    {
     "data": {
      "text/plain": [
       "289228.8965959148"
      ]
     },
     "execution_count": 363,
     "metadata": {},
     "output_type": "execute_result"
    }
   ],
   "source": [
    "(all_amazon.total_amount_cents / 370 * 4.7).mean()"
   ]
  },
  {
   "cell_type": "code",
   "execution_count": 365,
   "metadata": {
    "collapsed": false
   },
   "outputs": [
    {
     "data": {
      "text/plain": [
       "407911.2448871359"
      ]
     },
     "execution_count": 365,
     "metadata": {},
     "output_type": "execute_result"
    }
   ],
   "source": [
    "dfa[u'授信额度1.15倍'].mean() * 6"
   ]
  },
  {
   "cell_type": "code",
   "execution_count": 249,
   "metadata": {
    "collapsed": true
   },
   "outputs": [],
   "source": [
    "dfa[u'授信额度1.15倍'] = dfa[u'授信额度1.15倍'] / 6"
   ]
  },
  {
   "cell_type": "code",
   "execution_count": 265,
   "metadata": {
    "collapsed": false
   },
   "outputs": [],
   "source": [
    "# dfa.head(10)"
   ]
  },
  {
   "cell_type": "code",
   "execution_count": 274,
   "metadata": {
    "collapsed": false
   },
   "outputs": [
    {
     "data": {
      "text/plain": [
       "count    5252.000000\n",
       "mean        1.389826\n",
       "std         1.717838\n",
       "min         0.056802\n",
       "25%         0.573620\n",
       "50%         0.909677\n",
       "75%         1.656491\n",
       "max        45.504684\n",
       "Name: 授信额度1.15/Amazon, dtype: float64"
      ]
     },
     "execution_count": 274,
     "metadata": {},
     "output_type": "execute_result"
    }
   ],
   "source": [
    "# dfa.head(12)\n",
    "dfa[dfa.MAX_12M_OFFER>0][u'授信额度1.15/Amazon'].describe()"
   ]
  },
  {
   "cell_type": "code",
   "execution_count": 307,
   "metadata": {
    "collapsed": false
   },
   "outputs": [
    {
     "data": {
      "text/plain": [
       "count    5582.000000\n",
       "mean        2.128864\n",
       "std         0.400033\n",
       "min         1.560000\n",
       "25%         1.720000\n",
       "50%         2.040000\n",
       "75%         2.520000\n",
       "max         2.840000\n",
       "Name: 授信权重, dtype: float64"
      ]
     },
     "execution_count": 307,
     "metadata": {},
     "output_type": "execute_result"
    }
   ],
   "source": [
    "dfa[u'授信权重'].describe()"
   ]
  },
  {
   "cell_type": "code",
   "execution_count": 361,
   "metadata": {
    "collapsed": false
   },
   "outputs": [
    {
     "data": {
      "text/html": [
       "<div>\n",
       "<table border=\"1\" class=\"dataframe\">\n",
       "  <thead>\n",
       "    <tr style=\"text-align: right;\">\n",
       "      <th></th>\n",
       "      <th>gmv</th>\n",
       "      <th>授信额度1.15倍</th>\n",
       "      <th>授信权重</th>\n",
       "      <th>件数</th>\n",
       "    </tr>\n",
       "    <tr>\n",
       "      <th>gmv_bin</th>\n",
       "      <th></th>\n",
       "      <th></th>\n",
       "      <th></th>\n",
       "      <th></th>\n",
       "    </tr>\n",
       "  </thead>\n",
       "  <tbody>\n",
       "    <tr>\n",
       "      <th>(0, 15000]</th>\n",
       "      <td>11638.65</td>\n",
       "      <td>102727.44</td>\n",
       "      <td>1.56</td>\n",
       "      <td>789.0</td>\n",
       "    </tr>\n",
       "    <tr>\n",
       "      <th>(15000, 20000]</th>\n",
       "      <td>17417.53</td>\n",
       "      <td>144115.56</td>\n",
       "      <td>1.69</td>\n",
       "      <td>530.0</td>\n",
       "    </tr>\n",
       "    <tr>\n",
       "      <th>(20000, 30000]</th>\n",
       "      <td>24801.31</td>\n",
       "      <td>178849.56</td>\n",
       "      <td>1.85</td>\n",
       "      <td>808.0</td>\n",
       "    </tr>\n",
       "    <tr>\n",
       "      <th>(30000, 40000]</th>\n",
       "      <td>34714.40</td>\n",
       "      <td>231808.50</td>\n",
       "      <td>2.00</td>\n",
       "      <td>656.0</td>\n",
       "    </tr>\n",
       "    <tr>\n",
       "      <th>(40000, 50000]</th>\n",
       "      <td>45070.60</td>\n",
       "      <td>275632.44</td>\n",
       "      <td>2.16</td>\n",
       "      <td>461.0</td>\n",
       "    </tr>\n",
       "    <tr>\n",
       "      <th>(50000, 70000]</th>\n",
       "      <td>59449.72</td>\n",
       "      <td>342388.50</td>\n",
       "      <td>2.34</td>\n",
       "      <td>605.0</td>\n",
       "    </tr>\n",
       "    <tr>\n",
       "      <th>(70000, 100000]</th>\n",
       "      <td>83189.33</td>\n",
       "      <td>438722.52</td>\n",
       "      <td>2.49</td>\n",
       "      <td>537.0</td>\n",
       "    </tr>\n",
       "    <tr>\n",
       "      <th>(100000, 200000]</th>\n",
       "      <td>138982.37</td>\n",
       "      <td>678117.96</td>\n",
       "      <td>2.66</td>\n",
       "      <td>681.0</td>\n",
       "    </tr>\n",
       "    <tr>\n",
       "      <th>(200000, 4100000]</th>\n",
       "      <td>478485.09</td>\n",
       "      <td>1536595.38</td>\n",
       "      <td>2.69</td>\n",
       "      <td>515.0</td>\n",
       "    </tr>\n",
       "    <tr>\n",
       "      <th>(4100000, 20000000]</th>\n",
       "      <td>NaN</td>\n",
       "      <td>NaN</td>\n",
       "      <td>NaN</td>\n",
       "      <td>NaN</td>\n",
       "    </tr>\n",
       "  </tbody>\n",
       "</table>\n",
       "</div>"
      ],
      "text/plain": [
       "                           gmv   授信额度1.15倍  授信权重     件数\n",
       "gmv_bin                                                \n",
       "(0, 15000]            11638.65   102727.44  1.56  789.0\n",
       "(15000, 20000]        17417.53   144115.56  1.69  530.0\n",
       "(20000, 30000]        24801.31   178849.56  1.85  808.0\n",
       "(30000, 40000]        34714.40   231808.50  2.00  656.0\n",
       "(40000, 50000]        45070.60   275632.44  2.16  461.0\n",
       "(50000, 70000]        59449.72   342388.50  2.34  605.0\n",
       "(70000, 100000]       83189.33   438722.52  2.49  537.0\n",
       "(100000, 200000]     138982.37   678117.96  2.66  681.0\n",
       "(200000, 4100000]    478485.09  1536595.38  2.69  515.0\n",
       "(4100000, 20000000]        NaN         NaN   NaN    NaN"
      ]
     },
     "execution_count": 361,
     "metadata": {},
     "output_type": "execute_result"
    }
   ],
   "source": [
    "dfatest = dfa.groupby('gmv_bin').mean()[['gmv',u'授信额度1.15倍',u'授信权重']]\n",
    "dfatest[u'件数'] = dfa.groupby('gmv_bin').cnt.sum()\n",
    "dfatest = dfatest.applymap(lambda x: round(x,2))\n",
    "dfatest[u'授信额度1.15倍'] = dfatest[u'授信额度1.15倍'] * 6\n",
    "dfatest"
   ]
  },
  {
   "cell_type": "code",
   "execution_count": 322,
   "metadata": {
    "collapsed": false
   },
   "outputs": [
    {
     "data": {
      "text/plain": [
       "407911.2448871359"
      ]
     },
     "execution_count": 322,
     "metadata": {},
     "output_type": "execute_result"
    }
   ],
   "source": [
    "dfa[u'授信额度1.15倍'].mean() * 6"
   ]
  },
  {
   "cell_type": "code",
   "execution_count": 358,
   "metadata": {
    "collapsed": false
   },
   "outputs": [
    {
     "data": {
      "text/plain": [
       "(5582, 16)"
      ]
     },
     "execution_count": 358,
     "metadata": {},
     "output_type": "execute_result"
    }
   ],
   "source": [
    "dfa.shape"
   ]
  },
  {
   "cell_type": "code",
   "execution_count": 359,
   "metadata": {
    "collapsed": false
   },
   "outputs": [
    {
     "data": {
      "text/plain": [
       "(573, 17)"
      ]
     },
     "execution_count": 359,
     "metadata": {},
     "output_type": "execute_result"
    }
   ],
   "source": [
    "all_amazon.shape"
   ]
  },
  {
   "cell_type": "code",
   "execution_count": 347,
   "metadata": {
    "collapsed": false
   },
   "outputs": [
    {
     "data": {
      "text/html": [
       "<div>\n",
       "<table border=\"1\" class=\"dataframe\">\n",
       "  <thead>\n",
       "    <tr style=\"text-align: right;\">\n",
       "      <th></th>\n",
       "      <th>amazon_gmv12</th>\n",
       "      <th>total_amount_cents</th>\n",
       "      <th>cnt</th>\n",
       "    </tr>\n",
       "    <tr>\n",
       "      <th>amazon_gmv_bin</th>\n",
       "      <th></th>\n",
       "      <th></th>\n",
       "      <th></th>\n",
       "    </tr>\n",
       "  </thead>\n",
       "  <tbody>\n",
       "    <tr>\n",
       "      <th>(0, 15000]</th>\n",
       "      <td>8865.0</td>\n",
       "      <td>51962.0</td>\n",
       "      <td>26.0</td>\n",
       "    </tr>\n",
       "    <tr>\n",
       "      <th>(15000, 20000]</th>\n",
       "      <td>17519.0</td>\n",
       "      <td>48171.0</td>\n",
       "      <td>18.0</td>\n",
       "    </tr>\n",
       "    <tr>\n",
       "      <th>(20000, 30000]</th>\n",
       "      <td>24374.0</td>\n",
       "      <td>53136.0</td>\n",
       "      <td>31.0</td>\n",
       "    </tr>\n",
       "    <tr>\n",
       "      <th>(30000, 40000]</th>\n",
       "      <td>34584.0</td>\n",
       "      <td>60866.0</td>\n",
       "      <td>27.0</td>\n",
       "    </tr>\n",
       "    <tr>\n",
       "      <th>(40000, 50000]</th>\n",
       "      <td>45405.0</td>\n",
       "      <td>81200.0</td>\n",
       "      <td>23.0</td>\n",
       "    </tr>\n",
       "    <tr>\n",
       "      <th>(50000, 70000]</th>\n",
       "      <td>59160.0</td>\n",
       "      <td>98958.0</td>\n",
       "      <td>40.0</td>\n",
       "    </tr>\n",
       "    <tr>\n",
       "      <th>(70000, 100000]</th>\n",
       "      <td>84614.0</td>\n",
       "      <td>109645.0</td>\n",
       "      <td>58.0</td>\n",
       "    </tr>\n",
       "    <tr>\n",
       "      <th>(100000, 200000]</th>\n",
       "      <td>144800.0</td>\n",
       "      <td>163265.0</td>\n",
       "      <td>105.0</td>\n",
       "    </tr>\n",
       "    <tr>\n",
       "      <th>(200000, 40000000]</th>\n",
       "      <td>1209860.0</td>\n",
       "      <td>534250.0</td>\n",
       "      <td>245.0</td>\n",
       "    </tr>\n",
       "  </tbody>\n",
       "</table>\n",
       "</div>"
      ],
      "text/plain": [
       "                    amazon_gmv12  total_amount_cents    cnt\n",
       "amazon_gmv_bin                                             \n",
       "(0, 15000]                8865.0             51962.0   26.0\n",
       "(15000, 20000]           17519.0             48171.0   18.0\n",
       "(20000, 30000]           24374.0             53136.0   31.0\n",
       "(30000, 40000]           34584.0             60866.0   27.0\n",
       "(40000, 50000]           45405.0             81200.0   23.0\n",
       "(50000, 70000]           59160.0             98958.0   40.0\n",
       "(70000, 100000]          84614.0            109645.0   58.0\n",
       "(100000, 200000]        144800.0            163265.0  105.0\n",
       "(200000, 40000000]     1209860.0            534250.0  245.0"
      ]
     },
     "execution_count": 347,
     "metadata": {},
     "output_type": "execute_result"
    }
   ],
   "source": [
    "# amazon_gp['total_amount_cents'] = amazon_gp.total_amount_cents / 100\n",
    "amazon_gp = amazon_gp.applymap(lambda x : round(x, 1))\n",
    "amazon_gp[['amazon_gmv12','total_amount_cents','cnt']]"
   ]
  },
  {
   "cell_type": "code",
   "execution_count": 344,
   "metadata": {
    "collapsed": false
   },
   "outputs": [
    {
     "data": {
      "text/plain": [
       "count    5.582000e+03\n",
       "mean     9.023834e+04\n",
       "std      1.897445e+05\n",
       "min      8.346640e+03\n",
       "25%      2.088696e+04\n",
       "50%      4.021936e+04\n",
       "75%      8.627328e+04\n",
       "max      4.047842e+06\n",
       "Name: gmv, dtype: float64"
      ]
     },
     "execution_count": 344,
     "metadata": {},
     "output_type": "execute_result"
    }
   ],
   "source": [
    "dfa.gmv.describe()"
   ]
  },
  {
   "cell_type": "code",
   "execution_count": 346,
   "metadata": {
    "collapsed": false
   },
   "outputs": [],
   "source": [
    "dfa['gmv_bin'] = pd.cut(dfa.gmv, [0, 15000, 2e4, 3e4, 4e4, 5e4, 7e4, 1e5, 2e5,41e5,2e7])"
   ]
  },
  {
   "cell_type": "code",
   "execution_count": 317,
   "metadata": {
    "collapsed": true
   },
   "outputs": [],
   "source": [
    "dfa['cnt'] = 1"
   ]
  },
  {
   "cell_type": "code",
   "execution_count": 226,
   "metadata": {
    "collapsed": false
   },
   "outputs": [
    {
     "data": {
      "text/plain": [
       "count    5.582000e+03\n",
       "mean     9.023834e+04\n",
       "std      1.897445e+05\n",
       "min      8.346640e+03\n",
       "25%      2.088696e+04\n",
       "50%      4.021936e+04\n",
       "75%      8.627328e+04\n",
       "max      4.047842e+06\n",
       "Name: gmv, dtype: float64"
      ]
     },
     "execution_count": 226,
     "metadata": {},
     "output_type": "execute_result"
    }
   ],
   "source": [
    "dfa.gmv.describe()"
   ]
  },
  {
   "cell_type": "code",
   "execution_count": 198,
   "metadata": {
    "collapsed": false
   },
   "outputs": [],
   "source": [
    "# dfa."
   ]
  },
  {
   "cell_type": "code",
   "execution_count": null,
   "metadata": {
    "collapsed": true
   },
   "outputs": [],
   "source": []
  },
  {
   "cell_type": "code",
   "execution_count": 150,
   "metadata": {
    "collapsed": false
   },
   "outputs": [
    {
     "data": {
      "text/html": [
       "<div>\n",
       "<table border=\"1\" class=\"dataframe\">\n",
       "  <thead>\n",
       "    <tr style=\"text-align: right;\">\n",
       "      <th></th>\n",
       "      <th>amazon_gmv12</th>\n",
       "      <th>real_granted_amount</th>\n",
       "      <th>amazon_withdrawal</th>\n",
       "      <th>withdrawal_rate</th>\n",
       "      <th>amazon_num</th>\n",
       "      <th>cnt</th>\n",
       "    </tr>\n",
       "    <tr>\n",
       "      <th>amazon_gmv_bin</th>\n",
       "      <th></th>\n",
       "      <th></th>\n",
       "      <th></th>\n",
       "      <th></th>\n",
       "      <th></th>\n",
       "      <th></th>\n",
       "    </tr>\n",
       "  </thead>\n",
       "  <tbody>\n",
       "    <tr>\n",
       "      <th>(0, 10000]</th>\n",
       "      <td>NaN</td>\n",
       "      <td>NaN</td>\n",
       "      <td>NaN</td>\n",
       "      <td>NaN</td>\n",
       "      <td>NaN</td>\n",
       "      <td>NaN</td>\n",
       "    </tr>\n",
       "    <tr>\n",
       "      <th>(10000, 50000]</th>\n",
       "      <td>2.669873e+04</td>\n",
       "      <td>4.488288e+06</td>\n",
       "      <td>2.235211e+06</td>\n",
       "      <td>0.632028</td>\n",
       "      <td>2.444444</td>\n",
       "      <td>9.0</td>\n",
       "    </tr>\n",
       "    <tr>\n",
       "      <th>(50000, 100000]</th>\n",
       "      <td>6.601360e+04</td>\n",
       "      <td>1.231104e+07</td>\n",
       "      <td>6.179905e+06</td>\n",
       "      <td>0.637096</td>\n",
       "      <td>1.750000</td>\n",
       "      <td>8.0</td>\n",
       "    </tr>\n",
       "    <tr>\n",
       "      <th>(100000, 300000]</th>\n",
       "      <td>1.891457e+05</td>\n",
       "      <td>2.045737e+07</td>\n",
       "      <td>9.407555e+06</td>\n",
       "      <td>0.581650</td>\n",
       "      <td>2.000000</td>\n",
       "      <td>19.0</td>\n",
       "    </tr>\n",
       "    <tr>\n",
       "      <th>(300000, 500000]</th>\n",
       "      <td>3.888896e+05</td>\n",
       "      <td>3.349410e+07</td>\n",
       "      <td>1.451186e+07</td>\n",
       "      <td>0.621150</td>\n",
       "      <td>2.923077</td>\n",
       "      <td>13.0</td>\n",
       "    </tr>\n",
       "    <tr>\n",
       "      <th>(500000, 1000000]</th>\n",
       "      <td>6.819884e+05</td>\n",
       "      <td>5.157623e+07</td>\n",
       "      <td>2.414756e+07</td>\n",
       "      <td>0.593949</td>\n",
       "      <td>4.692308</td>\n",
       "      <td>13.0</td>\n",
       "    </tr>\n",
       "    <tr>\n",
       "      <th>(1000000, 10000000]</th>\n",
       "      <td>2.748810e+06</td>\n",
       "      <td>1.341468e+08</td>\n",
       "      <td>6.173190e+07</td>\n",
       "      <td>0.636144</td>\n",
       "      <td>3.440000</td>\n",
       "      <td>25.0</td>\n",
       "    </tr>\n",
       "    <tr>\n",
       "      <th>(10000000, 40000000]</th>\n",
       "      <td>1.812884e+07</td>\n",
       "      <td>1.645000e+08</td>\n",
       "      <td>8.231005e+07</td>\n",
       "      <td>0.638297</td>\n",
       "      <td>11.250000</td>\n",
       "      <td>4.0</td>\n",
       "    </tr>\n",
       "  </tbody>\n",
       "</table>\n",
       "</div>"
      ],
      "text/plain": [
       "                      amazon_gmv12  real_granted_amount  amazon_withdrawal  \\\n",
       "amazon_gmv_bin                                                               \n",
       "(0, 10000]                     NaN                  NaN                NaN   \n",
       "(10000, 50000]        2.669873e+04         4.488288e+06       2.235211e+06   \n",
       "(50000, 100000]       6.601360e+04         1.231104e+07       6.179905e+06   \n",
       "(100000, 300000]      1.891457e+05         2.045737e+07       9.407555e+06   \n",
       "(300000, 500000]      3.888896e+05         3.349410e+07       1.451186e+07   \n",
       "(500000, 1000000]     6.819884e+05         5.157623e+07       2.414756e+07   \n",
       "(1000000, 10000000]   2.748810e+06         1.341468e+08       6.173190e+07   \n",
       "(10000000, 40000000]  1.812884e+07         1.645000e+08       8.231005e+07   \n",
       "\n",
       "                      withdrawal_rate  amazon_num   cnt  \n",
       "amazon_gmv_bin                                           \n",
       "(0, 10000]                        NaN         NaN   NaN  \n",
       "(10000, 50000]               0.632028    2.444444   9.0  \n",
       "(50000, 100000]              0.637096    1.750000   8.0  \n",
       "(100000, 300000]             0.581650    2.000000  19.0  \n",
       "(300000, 500000]             0.621150    2.923077  13.0  \n",
       "(500000, 1000000]            0.593949    4.692308  13.0  \n",
       "(1000000, 10000000]          0.636144    3.440000  25.0  \n",
       "(10000000, 40000000]         0.638297   11.250000   4.0  "
      ]
     },
     "execution_count": 150,
     "metadata": {},
     "output_type": "execute_result"
    }
   ],
   "source": [
    "amazon_gp = all_amazon[all_amazon.months=='4'].groupby('amazon_gmv_bin').mean()\n",
    "amazon_gp['cnt'] = all_amazon[all_amazon.months=='4'].groupby('amazon_gmv_bin').cnt.sum()\n",
    "amazon_gp[['amazon_gmv12','real_granted_amount','amazon_withdrawal','withdrawal_rate','amazon_num','cnt']]"
   ]
  },
  {
   "cell_type": "code",
   "execution_count": 149,
   "metadata": {
    "collapsed": false
   },
   "outputs": [
    {
     "data": {
      "text/html": [
       "<div>\n",
       "<table border=\"1\" class=\"dataframe\">\n",
       "  <thead>\n",
       "    <tr style=\"text-align: right;\">\n",
       "      <th></th>\n",
       "      <th>amazon_gmv12</th>\n",
       "      <th>real_granted_amount</th>\n",
       "      <th>amazon_withdrawal</th>\n",
       "      <th>withdrawal_rate</th>\n",
       "      <th>amazon_num</th>\n",
       "      <th>cnt</th>\n",
       "    </tr>\n",
       "    <tr>\n",
       "      <th>amazon_gmv_bin</th>\n",
       "      <th></th>\n",
       "      <th></th>\n",
       "      <th></th>\n",
       "      <th></th>\n",
       "      <th></th>\n",
       "      <th></th>\n",
       "    </tr>\n",
       "  </thead>\n",
       "  <tbody>\n",
       "    <tr>\n",
       "      <th>(0, 10000]</th>\n",
       "      <td>5.182858e+03</td>\n",
       "      <td>5.795608e+06</td>\n",
       "      <td>3.591755e+06</td>\n",
       "      <td>0.787234</td>\n",
       "      <td>1.000000</td>\n",
       "      <td>8</td>\n",
       "    </tr>\n",
       "    <tr>\n",
       "      <th>(10000, 50000]</th>\n",
       "      <td>3.004905e+04</td>\n",
       "      <td>5.780224e+06</td>\n",
       "      <td>3.296542e+06</td>\n",
       "      <td>0.734693</td>\n",
       "      <td>1.341463</td>\n",
       "      <td>41</td>\n",
       "    </tr>\n",
       "    <tr>\n",
       "      <th>(50000, 100000]</th>\n",
       "      <td>7.411765e+04</td>\n",
       "      <td>8.375425e+06</td>\n",
       "      <td>4.721308e+06</td>\n",
       "      <td>0.738833</td>\n",
       "      <td>1.685714</td>\n",
       "      <td>35</td>\n",
       "    </tr>\n",
       "    <tr>\n",
       "      <th>(100000, 300000]</th>\n",
       "      <td>1.759516e+05</td>\n",
       "      <td>1.741630e+07</td>\n",
       "      <td>9.524844e+06</td>\n",
       "      <td>0.716473</td>\n",
       "      <td>2.207547</td>\n",
       "      <td>53</td>\n",
       "    </tr>\n",
       "    <tr>\n",
       "      <th>(300000, 500000]</th>\n",
       "      <td>4.024852e+05</td>\n",
       "      <td>2.875294e+07</td>\n",
       "      <td>1.697733e+07</td>\n",
       "      <td>0.753099</td>\n",
       "      <td>4.294118</td>\n",
       "      <td>17</td>\n",
       "    </tr>\n",
       "    <tr>\n",
       "      <th>(500000, 1000000]</th>\n",
       "      <td>7.296947e+05</td>\n",
       "      <td>4.126950e+07</td>\n",
       "      <td>2.256572e+07</td>\n",
       "      <td>0.738714</td>\n",
       "      <td>4.535714</td>\n",
       "      <td>28</td>\n",
       "    </tr>\n",
       "    <tr>\n",
       "      <th>(1000000, 10000000]</th>\n",
       "      <td>2.467110e+06</td>\n",
       "      <td>9.501400e+07</td>\n",
       "      <td>5.410696e+07</td>\n",
       "      <td>0.787234</td>\n",
       "      <td>5.000000</td>\n",
       "      <td>22</td>\n",
       "    </tr>\n",
       "    <tr>\n",
       "      <th>(10000000, 40000000]</th>\n",
       "      <td>1.131016e+07</td>\n",
       "      <td>1.016216e+08</td>\n",
       "      <td>6.297872e+07</td>\n",
       "      <td>0.787234</td>\n",
       "      <td>5.000000</td>\n",
       "      <td>1</td>\n",
       "    </tr>\n",
       "  </tbody>\n",
       "</table>\n",
       "</div>"
      ],
      "text/plain": [
       "                      amazon_gmv12  real_granted_amount  amazon_withdrawal  \\\n",
       "amazon_gmv_bin                                                               \n",
       "(0, 10000]            5.182858e+03         5.795608e+06       3.591755e+06   \n",
       "(10000, 50000]        3.004905e+04         5.780224e+06       3.296542e+06   \n",
       "(50000, 100000]       7.411765e+04         8.375425e+06       4.721308e+06   \n",
       "(100000, 300000]      1.759516e+05         1.741630e+07       9.524844e+06   \n",
       "(300000, 500000]      4.024852e+05         2.875294e+07       1.697733e+07   \n",
       "(500000, 1000000]     7.296947e+05         4.126950e+07       2.256572e+07   \n",
       "(1000000, 10000000]   2.467110e+06         9.501400e+07       5.410696e+07   \n",
       "(10000000, 40000000]  1.131016e+07         1.016216e+08       6.297872e+07   \n",
       "\n",
       "                      withdrawal_rate  amazon_num  cnt  \n",
       "amazon_gmv_bin                                          \n",
       "(0, 10000]                   0.787234    1.000000    8  \n",
       "(10000, 50000]               0.734693    1.341463   41  \n",
       "(50000, 100000]              0.738833    1.685714   35  \n",
       "(100000, 300000]             0.716473    2.207547   53  \n",
       "(300000, 500000]             0.753099    4.294118   17  \n",
       "(500000, 1000000]            0.738714    4.535714   28  \n",
       "(1000000, 10000000]          0.787234    5.000000   22  \n",
       "(10000000, 40000000]         0.787234    5.000000    1  "
      ]
     },
     "execution_count": 149,
     "metadata": {},
     "output_type": "execute_result"
    }
   ],
   "source": [
    "amazon_gp = all_amazon[all_amazon.months=='6'].groupby('amazon_gmv_bin').mean()\n",
    "amazon_gp['cnt'] = all_amazon[all_amazon.months=='6'].groupby('amazon_gmv_bin').cnt.sum()\n",
    "amazon_gp[['amazon_gmv12','real_granted_amount','amazon_withdrawal','withdrawal_rate','amazon_num','cnt']]"
   ]
  },
  {
   "cell_type": "code",
   "execution_count": 151,
   "metadata": {
    "collapsed": false
   },
   "outputs": [
    {
     "data": {
      "text/html": [
       "<div>\n",
       "<table border=\"1\" class=\"dataframe\">\n",
       "  <thead>\n",
       "    <tr style=\"text-align: right;\">\n",
       "      <th></th>\n",
       "      <th>amazon_gmv12</th>\n",
       "      <th>real_granted_amount</th>\n",
       "      <th>amazon_withdrawal</th>\n",
       "      <th>withdrawal_rate</th>\n",
       "      <th>amazon_num</th>\n",
       "      <th>cnt</th>\n",
       "    </tr>\n",
       "    <tr>\n",
       "      <th>amazon_gmv_bin</th>\n",
       "      <th></th>\n",
       "      <th></th>\n",
       "      <th></th>\n",
       "      <th></th>\n",
       "      <th></th>\n",
       "      <th></th>\n",
       "    </tr>\n",
       "  </thead>\n",
       "  <tbody>\n",
       "    <tr>\n",
       "      <th>(0, 10000]</th>\n",
       "      <td>5.527632e+03</td>\n",
       "      <td>2.656216e+06</td>\n",
       "      <td>2.084659e+06</td>\n",
       "      <td>0.996796</td>\n",
       "      <td>1.400000</td>\n",
       "      <td>5</td>\n",
       "    </tr>\n",
       "    <tr>\n",
       "      <th>(10000, 50000]</th>\n",
       "      <td>2.830514e+04</td>\n",
       "      <td>6.521385e+06</td>\n",
       "      <td>4.740380e+06</td>\n",
       "      <td>0.975534</td>\n",
       "      <td>1.508772</td>\n",
       "      <td>57</td>\n",
       "    </tr>\n",
       "    <tr>\n",
       "      <th>(50000, 100000]</th>\n",
       "      <td>7.462895e+04</td>\n",
       "      <td>9.858343e+06</td>\n",
       "      <td>7.186283e+06</td>\n",
       "      <td>0.960834</td>\n",
       "      <td>1.826087</td>\n",
       "      <td>46</td>\n",
       "    </tr>\n",
       "    <tr>\n",
       "      <th>(100000, 300000]</th>\n",
       "      <td>1.846358e+05</td>\n",
       "      <td>1.691628e+07</td>\n",
       "      <td>1.235699e+07</td>\n",
       "      <td>0.963173</td>\n",
       "      <td>2.511364</td>\n",
       "      <td>88</td>\n",
       "    </tr>\n",
       "    <tr>\n",
       "      <th>(300000, 500000]</th>\n",
       "      <td>3.942945e+05</td>\n",
       "      <td>2.883676e+07</td>\n",
       "      <td>2.023509e+07</td>\n",
       "      <td>0.947225</td>\n",
       "      <td>2.600000</td>\n",
       "      <td>30</td>\n",
       "    </tr>\n",
       "    <tr>\n",
       "      <th>(500000, 1000000]</th>\n",
       "      <td>6.944268e+05</td>\n",
       "      <td>3.162080e+07</td>\n",
       "      <td>2.413897e+07</td>\n",
       "      <td>0.971786</td>\n",
       "      <td>4.347826</td>\n",
       "      <td>23</td>\n",
       "    </tr>\n",
       "    <tr>\n",
       "      <th>(1000000, 10000000]</th>\n",
       "      <td>2.198895e+06</td>\n",
       "      <td>5.396593e+07</td>\n",
       "      <td>4.192366e+07</td>\n",
       "      <td>0.993552</td>\n",
       "      <td>5.272727</td>\n",
       "      <td>33</td>\n",
       "    </tr>\n",
       "    <tr>\n",
       "      <th>(10000000, 40000000]</th>\n",
       "      <td>3.400454e+07</td>\n",
       "      <td>2.000000e+08</td>\n",
       "      <td>1.574468e+08</td>\n",
       "      <td>1.000000</td>\n",
       "      <td>14.000000</td>\n",
       "      <td>1</td>\n",
       "    </tr>\n",
       "  </tbody>\n",
       "</table>\n",
       "</div>"
      ],
      "text/plain": [
       "                      amazon_gmv12  real_granted_amount  amazon_withdrawal  \\\n",
       "amazon_gmv_bin                                                               \n",
       "(0, 10000]            5.527632e+03         2.656216e+06       2.084659e+06   \n",
       "(10000, 50000]        2.830514e+04         6.521385e+06       4.740380e+06   \n",
       "(50000, 100000]       7.462895e+04         9.858343e+06       7.186283e+06   \n",
       "(100000, 300000]      1.846358e+05         1.691628e+07       1.235699e+07   \n",
       "(300000, 500000]      3.942945e+05         2.883676e+07       2.023509e+07   \n",
       "(500000, 1000000]     6.944268e+05         3.162080e+07       2.413897e+07   \n",
       "(1000000, 10000000]   2.198895e+06         5.396593e+07       4.192366e+07   \n",
       "(10000000, 40000000]  3.400454e+07         2.000000e+08       1.574468e+08   \n",
       "\n",
       "                      withdrawal_rate  amazon_num  cnt  \n",
       "amazon_gmv_bin                                          \n",
       "(0, 10000]                   0.996796    1.400000    5  \n",
       "(10000, 50000]               0.975534    1.508772   57  \n",
       "(50000, 100000]              0.960834    1.826087   46  \n",
       "(100000, 300000]             0.963173    2.511364   88  \n",
       "(300000, 500000]             0.947225    2.600000   30  \n",
       "(500000, 1000000]            0.971786    4.347826   23  \n",
       "(1000000, 10000000]          0.993552    5.272727   33  \n",
       "(10000000, 40000000]         1.000000   14.000000    1  "
      ]
     },
     "execution_count": 151,
     "metadata": {},
     "output_type": "execute_result"
    }
   ],
   "source": [
    "amazon_gp = all_amazon[all_amazon.months=='12'].groupby('amazon_gmv_bin').mean()\n",
    "amazon_gp['cnt'] = all_amazon[all_amazon.months=='12'].groupby('amazon_gmv_bin').cnt.sum()\n",
    "amazon_gp[['amazon_gmv12','real_granted_amount','amazon_withdrawal','withdrawal_rate','amazon_num','cnt']]"
   ]
  },
  {
   "cell_type": "code",
   "execution_count": 162,
   "metadata": {
    "collapsed": false
   },
   "outputs": [
    {
     "data": {
      "text/plain": [
       "count    5.790000e+00\n",
       "mean     2.915607e+05\n",
       "std      4.371219e+05\n",
       "min      6.351351e+03\n",
       "25%      6.351351e+04\n",
       "50%      1.566667e+05\n",
       "75%      3.500000e+05\n",
       "max      3.133333e+06\n",
       "Name: real_granted_amount, dtype: float64"
      ]
     },
     "execution_count": 162,
     "metadata": {},
     "output_type": "execute_result"
    }
   ],
   "source": [
    "all_amazon.real_granted_amount.describe() / 100"
   ]
  },
  {
   "cell_type": "code",
   "execution_count": 105,
   "metadata": {
    "collapsed": true
   },
   "outputs": [],
   "source": [
    "#分布图\n",
    "def graph(raw, name='None', bins=[0,1], rate=True, start=0.5, height_fix=1,xlabel='withdrawal_ratio', ylabel='num/ratio'):\n",
    "    plt.rcParams['figure.figsize'] = (13.0, 5.0)\n",
    "    plt.title(name)\n",
    "    count = len(raw) * 1.0\n",
    "    \n",
    "    hist , bins2 = np.histogram(raw, bins)\n",
    "    rects = plt.bar(range(len(hist)), hist, width=1, fc='#87CEFA')\n",
    "    plt.xticks(range(len(bins)), map(lambda x:\"%.2f\"%x, bins), rotation='45')\n",
    "    pos = range(len(bins))\n",
    "\n",
    "\n",
    "    width = start\n",
    "\n",
    "    plt.rcParams.update({'font.size': 10})\n",
    "    for rect in rects:\n",
    "        \n",
    "        height = float(rect.get_height())\n",
    "        suffix = ''\n",
    "        \n",
    "        if rate:\n",
    "            rankStr = str(round(height / count * 100, 2)) + '%'\n",
    "        else:\n",
    "            rankStr = str(height) + suffix\n",
    "\n",
    "        xloc = width\n",
    "        yloc = rect.get_height() + height_fix\n",
    "\n",
    "        plt.text(xloc, yloc, rankStr, horizontalalignment='center', verticalalignment='top', color='black',\n",
    "                 weight='bold')\n",
    "        \n",
    "        width += 1\n",
    "\n",
    "    plt.xlabel(xlabel)\n",
    "    plt.ylabel(ylabel)\n",
    "    plt.show()"
   ]
  },
  {
   "cell_type": "code",
   "execution_count": null,
   "metadata": {
    "collapsed": true
   },
   "outputs": [],
   "source": [
    "test_with = []\n",
    "# test_with_y = []\n",
    "# n = 100\n",
    "bins = range(100, 1100, 100)\n",
    "bins.append(2000)\n",
    "for n in bins:\n",
    "    for i in range(n):\n",
    "        test = sample_with.sample(n=16, replace=True)\n",
    "        test_with.append(test.label.mean())\n",
    "    # test_with\n",
    "    print 'std: ', round(np.std(test_with), 3), len(test_with), round(np.mean(test_with), 3)\n",
    "    \n",
    "    graph(test_with, bins=np.linspace(0, 1, 30), name=str(n))\n",
    "    test_with = []"
   ]
  },
  {
   "cell_type": "code",
   "execution_count": 133,
   "metadata": {
    "collapsed": false
   },
   "outputs": [
    {
     "data": {
      "image/png": "[encoded data removed]",
      "text/plain": [
       "<matplotlib.figure.Figure at 0x126788650>"
      ]
     },
     "metadata": {},
     "output_type": "display_data"
    }
   ],
   "source": [
    "graph(all_amazon.amazon_gmv12,bins=[0, 1e4, 5e4, 1e5, 3e5, 5e5, 1e6, 1e7, 4e7], name='withdrawal_rate')"
   ]
  },
  {
   "cell_type": "code",
   "execution_count": 132,
   "metadata": {
    "collapsed": false
   },
   "outputs": [
    {
     "data": {
      "image/png": "[encoded data removed]",
      "text/plain": [
       "<matplotlib.figure.Figure at 0x126772550>"
      ]
     },
     "metadata": {},
     "output_type": "display_data"
    }
   ],
   "source": [
    "bins=[0, 1e4, 5e4, 1e5, 3e5, 5e5, 1e6, 1e7,]\n",
    "\n",
    "plt.title()\n",
    "plt.bar(range(len(bins)), amazon_gp.withdrawal_rate.values, width=1, fc='#87CEFA')\n",
    "plt.xticks(range(len(bins)), map(lambda x:\"%.f\"%x, bins), rotation='vertical')\n",
    "\n",
    "plt.tight_layout()\n",
    "plt.rcParams['figure.figsize'] = (13.0, 5.0)\n",
    "plt.show()"
   ]
  },
  {
   "cell_type": "code",
   "execution_count": 119,
   "metadata": {
    "collapsed": false
   },
   "outputs": [
    {
     "data": {
      "text/plain": [
       "(8, 8)"
      ]
     },
     "execution_count": 119,
     "metadata": {},
     "output_type": "execute_result"
    }
   ],
   "source": [
    "len(bins), len(amazon_gp.withdrawal_rate.values)"
   ]
  },
  {
   "cell_type": "code",
   "execution_count": null,
   "metadata": {
    "collapsed": true
   },
   "outputs": [],
   "source": []
  },
  {
   "cell_type": "code",
   "execution_count": 181,
   "metadata": {
    "collapsed": true
   },
   "outputs": [],
   "source": [
    "dfa = pd.read_csv('/Users/yixin/Downloads/amazon_miner_v4-3.csv', encoding='gb18030')"
   ]
  },
  {
   "cell_type": "code",
   "execution_count": 182,
   "metadata": {
    "collapsed": false
   },
   "outputs": [
    {
     "data": {
      "text/plain": [
       "(5582, 15)"
      ]
     },
     "execution_count": 182,
     "metadata": {},
     "output_type": "execute_result"
    }
   ],
   "source": [
    "dfa.shape"
   ]
  },
  {
   "cell_type": "code",
   "execution_count": 183,
   "metadata": {
    "collapsed": false
   },
   "outputs": [
    {
     "data": {
      "text/plain": [
       "count      5582.000000\n",
       "mean      67985.207481\n",
       "std       71769.607724\n",
       "min        3333.330000\n",
       "25%       25765.642500\n",
       "50%       42249.330000\n",
       "75%       76673.207500\n",
       "max      333333.330000\n",
       "Name: 授信额度1.15倍, dtype: float64"
      ]
     },
     "execution_count": 183,
     "metadata": {},
     "output_type": "execute_result"
    }
   ],
   "source": [
    "dfa[u'授信额度1.15倍'].describe()"
   ]
  },
  {
   "cell_type": "code",
   "execution_count": 189,
   "metadata": {
    "collapsed": false
   },
   "outputs": [
    {
     "data": {
      "text/plain": [
       "(2307, 15)"
      ]
     },
     "execution_count": 189,
     "metadata": {},
     "output_type": "execute_result"
    }
   ],
   "source": [
    "dfa[dfa[u'授信额度1.15倍'] > 5e4].shape"
   ]
  },
  {
   "cell_type": "code",
   "execution_count": 191,
   "metadata": {
    "collapsed": false
   },
   "outputs": [
    {
     "data": {
      "text/plain": [
       "count    5.582000e+03\n",
       "mean     9.023834e+04\n",
       "std      1.897445e+05\n",
       "min      8.346640e+03\n",
       "25%      2.088696e+04\n",
       "50%      4.021936e+04\n",
       "75%      8.627328e+04\n",
       "max      4.047842e+06\n",
       "Name: gmv, dtype: float64"
      ]
     },
     "execution_count": 191,
     "metadata": {},
     "output_type": "execute_result"
    }
   ],
   "source": [
    "dfa.gmv.describe()"
   ]
  },
  {
   "cell_type": "code",
   "execution_count": 199,
   "metadata": {
    "collapsed": true
   },
   "outputs": [],
   "source": [
    "channel = pd.read_csv('/Users/yixin/Downloads/amazon_channel-2.csv', encoding='gb18030')"
   ]
  },
  {
   "cell_type": "code",
   "execution_count": 201,
   "metadata": {
    "collapsed": false
   },
   "outputs": [
    {
     "data": {
      "text/plain": [
       "count    5.582000e+03\n",
       "mean     9.023834e+04\n",
       "std      1.897445e+05\n",
       "min      8.346641e+03\n",
       "25%      2.088696e+04\n",
       "50%      4.021936e+04\n",
       "75%      8.627328e+04\n",
       "max      4.047842e+06\n",
       "Name: SALES_1Y, dtype: float64"
      ]
     },
     "execution_count": 201,
     "metadata": {},
     "output_type": "execute_result"
    }
   ],
   "source": [
    "(channel.SALES_1Y / 12).describe()"
   ]
  },
  {
   "cell_type": "code",
   "execution_count": 248,
   "metadata": {
    "collapsed": false
   },
   "outputs": [
    {
     "data": {
      "text/html": [
       "<div>\n",
       "<table border=\"1\" class=\"dataframe\">\n",
       "  <thead>\n",
       "    <tr style=\"text-align: right;\">\n",
       "      <th></th>\n",
       "      <th>TOKEN_ID</th>\n",
       "      <th>MARKETPLACE_COUNTRY</th>\n",
       "      <th>MARKETPLACE_CURRENCY</th>\n",
       "      <th>TENURE</th>\n",
       "      <th>SELLER_STATUS</th>\n",
       "      <th>T13WK_FBA_%</th>\n",
       "      <th>T3M_FBA_INV_VALUE</th>\n",
       "      <th>CURR_FBA_INV_VALUE</th>\n",
       "      <th>PRIMARY_PRODUCT_CATEGORY</th>\n",
       "      <th>HAS_LOAN_OFFER</th>\n",
       "      <th>...</th>\n",
       "      <th>TTM_FEEDBACK</th>\n",
       "      <th>TTM_NEG_FEEDBACK</th>\n",
       "      <th>NEG_FEEDBACK_RATE</th>\n",
       "      <th>NEG_ORDER_FEEDBACK_RATE</th>\n",
       "      <th>BLOCK_SCORE</th>\n",
       "      <th>MAX_TERM</th>\n",
       "      <th>MAX_3M_OFFER</th>\n",
       "      <th>MAX_6M_OFFER</th>\n",
       "      <th>MAX_9M_OFFER</th>\n",
       "      <th>MAX_12M_OFFER</th>\n",
       "    </tr>\n",
       "  </thead>\n",
       "  <tbody>\n",
       "    <tr>\n",
       "      <th>0</th>\n",
       "      <td>1000001</td>\n",
       "      <td>US</td>\n",
       "      <td>USD</td>\n",
       "      <td>2100</td>\n",
       "      <td>NORMAL</td>\n",
       "      <td>94.34</td>\n",
       "      <td>65889.27</td>\n",
       "      <td>58466.84</td>\n",
       "      <td>Apparel</td>\n",
       "      <td>No</td>\n",
       "      <td>...</td>\n",
       "      <td>260</td>\n",
       "      <td>3</td>\n",
       "      <td>1.15%</td>\n",
       "      <td>0.02%</td>\n",
       "      <td>A</td>\n",
       "      <td>12</td>\n",
       "      <td>29318</td>\n",
       "      <td>47858</td>\n",
       "      <td>71913</td>\n",
       "      <td>70455</td>\n",
       "    </tr>\n",
       "    <tr>\n",
       "      <th>1</th>\n",
       "      <td>1000002</td>\n",
       "      <td>US</td>\n",
       "      <td>USD</td>\n",
       "      <td>2116</td>\n",
       "      <td>NORMAL</td>\n",
       "      <td>85.94</td>\n",
       "      <td>322139.08</td>\n",
       "      <td>257031.96</td>\n",
       "      <td>Apparel</td>\n",
       "      <td>No</td>\n",
       "      <td>...</td>\n",
       "      <td>1901</td>\n",
       "      <td>34</td>\n",
       "      <td>1.79%</td>\n",
       "      <td>0.02%</td>\n",
       "      <td>A</td>\n",
       "      <td>12</td>\n",
       "      <td>26892</td>\n",
       "      <td>39252</td>\n",
       "      <td>77691</td>\n",
       "      <td>101754</td>\n",
       "    </tr>\n",
       "    <tr>\n",
       "      <th>2</th>\n",
       "      <td>1000003</td>\n",
       "      <td>US</td>\n",
       "      <td>USD</td>\n",
       "      <td>1428</td>\n",
       "      <td>NORMAL</td>\n",
       "      <td>56.43</td>\n",
       "      <td>38183.94</td>\n",
       "      <td>36681.94</td>\n",
       "      <td>Outdoors</td>\n",
       "      <td>No</td>\n",
       "      <td>...</td>\n",
       "      <td>18</td>\n",
       "      <td>0</td>\n",
       "      <td>0.00%</td>\n",
       "      <td>0.00%</td>\n",
       "      <td>E</td>\n",
       "      <td>12</td>\n",
       "      <td>13084</td>\n",
       "      <td>20401</td>\n",
       "      <td>26649</td>\n",
       "      <td>22705</td>\n",
       "    </tr>\n",
       "    <tr>\n",
       "      <th>3</th>\n",
       "      <td>1000004</td>\n",
       "      <td>US</td>\n",
       "      <td>USD</td>\n",
       "      <td>1161</td>\n",
       "      <td>NORMAL</td>\n",
       "      <td>99.48</td>\n",
       "      <td>46382.84</td>\n",
       "      <td>46459.06</td>\n",
       "      <td>Automotive</td>\n",
       "      <td>No</td>\n",
       "      <td>...</td>\n",
       "      <td>227</td>\n",
       "      <td>0</td>\n",
       "      <td>0.00%</td>\n",
       "      <td>0.00%</td>\n",
       "      <td>A</td>\n",
       "      <td>12</td>\n",
       "      <td>25050</td>\n",
       "      <td>45882</td>\n",
       "      <td>63322</td>\n",
       "      <td>77666</td>\n",
       "    </tr>\n",
       "    <tr>\n",
       "      <th>4</th>\n",
       "      <td>1000005</td>\n",
       "      <td>US</td>\n",
       "      <td>USD</td>\n",
       "      <td>2264</td>\n",
       "      <td>NORMAL</td>\n",
       "      <td>99.77</td>\n",
       "      <td>231970.45</td>\n",
       "      <td>233909.58</td>\n",
       "      <td>Toys</td>\n",
       "      <td>No</td>\n",
       "      <td>...</td>\n",
       "      <td>972</td>\n",
       "      <td>7</td>\n",
       "      <td>0.72%</td>\n",
       "      <td>0.01%</td>\n",
       "      <td>A</td>\n",
       "      <td>12</td>\n",
       "      <td>79683</td>\n",
       "      <td>132256</td>\n",
       "      <td>58792</td>\n",
       "      <td>200386</td>\n",
       "    </tr>\n",
       "    <tr>\n",
       "      <th>5</th>\n",
       "      <td>1000006</td>\n",
       "      <td>US</td>\n",
       "      <td>USD</td>\n",
       "      <td>1449</td>\n",
       "      <td>NORMAL</td>\n",
       "      <td>87.31</td>\n",
       "      <td>22106.94</td>\n",
       "      <td>19106.43</td>\n",
       "      <td>Beauty</td>\n",
       "      <td>No</td>\n",
       "      <td>...</td>\n",
       "      <td>100</td>\n",
       "      <td>1</td>\n",
       "      <td>1.00%</td>\n",
       "      <td>0.01%</td>\n",
       "      <td>C</td>\n",
       "      <td>12</td>\n",
       "      <td>22011</td>\n",
       "      <td>43077</td>\n",
       "      <td>62984</td>\n",
       "      <td>82106</td>\n",
       "    </tr>\n",
       "    <tr>\n",
       "      <th>6</th>\n",
       "      <td>1000007</td>\n",
       "      <td>US</td>\n",
       "      <td>USD</td>\n",
       "      <td>2279</td>\n",
       "      <td>NORMAL</td>\n",
       "      <td>93.04</td>\n",
       "      <td>19819.34</td>\n",
       "      <td>18940.03</td>\n",
       "      <td>Camera</td>\n",
       "      <td>No</td>\n",
       "      <td>...</td>\n",
       "      <td>480</td>\n",
       "      <td>4</td>\n",
       "      <td>0.83%</td>\n",
       "      <td>0.01%</td>\n",
       "      <td>A</td>\n",
       "      <td>12</td>\n",
       "      <td>30570</td>\n",
       "      <td>59827</td>\n",
       "      <td>87474</td>\n",
       "      <td>114031</td>\n",
       "    </tr>\n",
       "    <tr>\n",
       "      <th>7</th>\n",
       "      <td>1000008</td>\n",
       "      <td>US</td>\n",
       "      <td>USD</td>\n",
       "      <td>2283</td>\n",
       "      <td>NORMAL</td>\n",
       "      <td>86.04</td>\n",
       "      <td>75034.83</td>\n",
       "      <td>53608.25</td>\n",
       "      <td>Grocery</td>\n",
       "      <td>No</td>\n",
       "      <td>...</td>\n",
       "      <td>332</td>\n",
       "      <td>7</td>\n",
       "      <td>2.11%</td>\n",
       "      <td>0.04%</td>\n",
       "      <td>C</td>\n",
       "      <td>12</td>\n",
       "      <td>25646</td>\n",
       "      <td>50190</td>\n",
       "      <td>66805</td>\n",
       "      <td>76490</td>\n",
       "    </tr>\n",
       "    <tr>\n",
       "      <th>8</th>\n",
       "      <td>1000009</td>\n",
       "      <td>US</td>\n",
       "      <td>USD</td>\n",
       "      <td>1337</td>\n",
       "      <td>NORMAL</td>\n",
       "      <td>100.00</td>\n",
       "      <td>44218.33</td>\n",
       "      <td>44213.93</td>\n",
       "      <td>Beauty</td>\n",
       "      <td>No</td>\n",
       "      <td>...</td>\n",
       "      <td>833</td>\n",
       "      <td>6</td>\n",
       "      <td>0.72%</td>\n",
       "      <td>0.01%</td>\n",
       "      <td>A</td>\n",
       "      <td>12</td>\n",
       "      <td>37515</td>\n",
       "      <td>55583</td>\n",
       "      <td>67953</td>\n",
       "      <td>67805</td>\n",
       "    </tr>\n",
       "    <tr>\n",
       "      <th>9</th>\n",
       "      <td>1000010</td>\n",
       "      <td>US</td>\n",
       "      <td>USD</td>\n",
       "      <td>853</td>\n",
       "      <td>NORMAL</td>\n",
       "      <td>99.97</td>\n",
       "      <td>33895.80</td>\n",
       "      <td>30534.98</td>\n",
       "      <td>Wireless</td>\n",
       "      <td>No</td>\n",
       "      <td>...</td>\n",
       "      <td>534</td>\n",
       "      <td>2</td>\n",
       "      <td>0.37%</td>\n",
       "      <td>0.00%</td>\n",
       "      <td>C</td>\n",
       "      <td>9</td>\n",
       "      <td>11164</td>\n",
       "      <td>8095</td>\n",
       "      <td>22816</td>\n",
       "      <td>0</td>\n",
       "    </tr>\n",
       "  </tbody>\n",
       "</table>\n",
       "<p>10 rows × 61 columns</p>\n",
       "</div>"
      ],
      "text/plain": [
       "   TOKEN_ID MARKETPLACE_COUNTRY MARKETPLACE_CURRENCY  TENURE SELLER_STATUS  \\\n",
       "0   1000001                  US                  USD    2100        NORMAL   \n",
       "1   1000002                  US                  USD    2116        NORMAL   \n",
       "2   1000003                  US                  USD    1428        NORMAL   \n",
       "3   1000004                  US                  USD    1161        NORMAL   \n",
       "4   1000005                  US                  USD    2264        NORMAL   \n",
       "5   1000006                  US                  USD    1449        NORMAL   \n",
       "6   1000007                  US                  USD    2279        NORMAL   \n",
       "7   1000008                  US                  USD    2283        NORMAL   \n",
       "8   1000009                  US                  USD    1337        NORMAL   \n",
       "9   1000010                  US                  USD     853        NORMAL   \n",
       "\n",
       "   T13WK_FBA_%  T3M_FBA_INV_VALUE  CURR_FBA_INV_VALUE  \\\n",
       "0        94.34           65889.27            58466.84   \n",
       "1        85.94          322139.08           257031.96   \n",
       "2        56.43           38183.94            36681.94   \n",
       "3        99.48           46382.84            46459.06   \n",
       "4        99.77          231970.45           233909.58   \n",
       "5        87.31           22106.94            19106.43   \n",
       "6        93.04           19819.34            18940.03   \n",
       "7        86.04           75034.83            53608.25   \n",
       "8       100.00           44218.33            44213.93   \n",
       "9        99.97           33895.80            30534.98   \n",
       "\n",
       "  PRIMARY_PRODUCT_CATEGORY HAS_LOAN_OFFER      ...       TTM_FEEDBACK  \\\n",
       "0                  Apparel             No      ...                260   \n",
       "1                  Apparel             No      ...               1901   \n",
       "2                 Outdoors             No      ...                 18   \n",
       "3               Automotive             No      ...                227   \n",
       "4                     Toys             No      ...                972   \n",
       "5                   Beauty             No      ...                100   \n",
       "6                   Camera             No      ...                480   \n",
       "7                  Grocery             No      ...                332   \n",
       "8                   Beauty             No      ...                833   \n",
       "9                 Wireless             No      ...                534   \n",
       "\n",
       "   TTM_NEG_FEEDBACK  NEG_FEEDBACK_RATE  NEG_ORDER_FEEDBACK_RATE  BLOCK_SCORE  \\\n",
       "0                 3              1.15%                    0.02%            A   \n",
       "1                34              1.79%                    0.02%            A   \n",
       "2                 0              0.00%                    0.00%            E   \n",
       "3                 0              0.00%                    0.00%            A   \n",
       "4                 7              0.72%                    0.01%            A   \n",
       "5                 1              1.00%                    0.01%            C   \n",
       "6                 4              0.83%                    0.01%            A   \n",
       "7                 7              2.11%                    0.04%            C   \n",
       "8                 6              0.72%                    0.01%            A   \n",
       "9                 2              0.37%                    0.00%            C   \n",
       "\n",
       "   MAX_TERM  MAX_3M_OFFER  MAX_6M_OFFER  MAX_9M_OFFER  MAX_12M_OFFER  \n",
       "0        12         29318         47858         71913          70455  \n",
       "1        12         26892         39252         77691         101754  \n",
       "2        12         13084         20401         26649          22705  \n",
       "3        12         25050         45882         63322          77666  \n",
       "4        12         79683        132256         58792         200386  \n",
       "5        12         22011         43077         62984          82106  \n",
       "6        12         30570         59827         87474         114031  \n",
       "7        12         25646         50190         66805          76490  \n",
       "8        12         37515         55583         67953          67805  \n",
       "9         9         11164          8095         22816              0  \n",
       "\n",
       "[10 rows x 61 columns]"
      ]
     },
     "execution_count": 248,
     "metadata": {},
     "output_type": "execute_result"
    }
   ],
   "source": [
    "channel.head(10)"
   ]
  },
  {
   "cell_type": "code",
   "execution_count": 202,
   "metadata": {
    "collapsed": false
   },
   "outputs": [
    {
     "data": {
      "text/html": [
       "<div>\n",
       "<table border=\"1\" class=\"dataframe\">\n",
       "  <thead>\n",
       "    <tr style=\"text-align: right;\">\n",
       "      <th></th>\n",
       "      <th>all_gmv12</th>\n",
       "      <th>amazon_gmv12</th>\n",
       "      <th>amazon_num</th>\n",
       "      <th>amazon_ratio</th>\n",
       "      <th>months</th>\n",
       "      <th>total_amount_cents</th>\n",
       "      <th>transport_id</th>\n",
       "      <th>use_amount_cents</th>\n",
       "      <th>withdrawal_rate</th>\n",
       "      <th>exchange_rate</th>\n",
       "      <th>real_granted_amount</th>\n",
       "      <th>amazon_granted</th>\n",
       "      <th>amazon_withdrawal</th>\n",
       "      <th>amazon_gmv_bin</th>\n",
       "      <th>cnt</th>\n",
       "    </tr>\n",
       "  </thead>\n",
       "  <tbody>\n",
       "    <tr>\n",
       "      <th>1</th>\n",
       "      <td>1.159085e+06</td>\n",
       "      <td>1.159085e+06</td>\n",
       "      <td>1</td>\n",
       "      <td>1.000000</td>\n",
       "      <td>6</td>\n",
       "      <td>50000000</td>\n",
       "      <td>28</td>\n",
       "      <td>50000000.0</td>\n",
       "      <td>0.787234</td>\n",
       "      <td>4.7</td>\n",
       "      <td>6.351351e+07</td>\n",
       "      <td>5.000000e+07</td>\n",
       "      <td>3.936170e+07</td>\n",
       "      <td>(1000000, 10000000]</td>\n",
       "      <td>1</td>\n",
       "    </tr>\n",
       "    <tr>\n",
       "      <th>6</th>\n",
       "      <td>1.196994e+05</td>\n",
       "      <td>1.196994e+05</td>\n",
       "      <td>2</td>\n",
       "      <td>1.000000</td>\n",
       "      <td>6</td>\n",
       "      <td>10000000</td>\n",
       "      <td>115</td>\n",
       "      <td>10000000.0</td>\n",
       "      <td>0.787234</td>\n",
       "      <td>4.7</td>\n",
       "      <td>1.270270e+07</td>\n",
       "      <td>1.000000e+07</td>\n",
       "      <td>7.872340e+06</td>\n",
       "      <td>(100000, 300000]</td>\n",
       "      <td>1</td>\n",
       "    </tr>\n",
       "    <tr>\n",
       "      <th>7</th>\n",
       "      <td>4.328191e+05</td>\n",
       "      <td>8.164567e+02</td>\n",
       "      <td>1</td>\n",
       "      <td>1.000000</td>\n",
       "      <td>6</td>\n",
       "      <td>20000000</td>\n",
       "      <td>129</td>\n",
       "      <td>20000000.0</td>\n",
       "      <td>0.787234</td>\n",
       "      <td>4.7</td>\n",
       "      <td>2.540541e+07</td>\n",
       "      <td>2.000000e+07</td>\n",
       "      <td>1.574468e+07</td>\n",
       "      <td>(0, 10000]</td>\n",
       "      <td>1</td>\n",
       "    </tr>\n",
       "    <tr>\n",
       "      <th>9</th>\n",
       "      <td>9.174475e+04</td>\n",
       "      <td>9.174475e+04</td>\n",
       "      <td>2</td>\n",
       "      <td>1.000000</td>\n",
       "      <td>6</td>\n",
       "      <td>5000000</td>\n",
       "      <td>203</td>\n",
       "      <td>5000000.0</td>\n",
       "      <td>0.787234</td>\n",
       "      <td>4.7</td>\n",
       "      <td>6.351351e+06</td>\n",
       "      <td>5.000000e+06</td>\n",
       "      <td>3.936170e+06</td>\n",
       "      <td>(50000, 100000]</td>\n",
       "      <td>1</td>\n",
       "    </tr>\n",
       "    <tr>\n",
       "      <th>10</th>\n",
       "      <td>2.232248e+05</td>\n",
       "      <td>2.232248e+05</td>\n",
       "      <td>1</td>\n",
       "      <td>1.000000</td>\n",
       "      <td>6</td>\n",
       "      <td>11000000</td>\n",
       "      <td>224</td>\n",
       "      <td>11000000.0</td>\n",
       "      <td>0.787234</td>\n",
       "      <td>4.7</td>\n",
       "      <td>1.397297e+07</td>\n",
       "      <td>1.100000e+07</td>\n",
       "      <td>8.659574e+06</td>\n",
       "      <td>(100000, 300000]</td>\n",
       "      <td>1</td>\n",
       "    </tr>\n",
       "    <tr>\n",
       "      <th>11</th>\n",
       "      <td>1.289099e+06</td>\n",
       "      <td>1.289099e+06</td>\n",
       "      <td>3</td>\n",
       "      <td>1.000000</td>\n",
       "      <td>6</td>\n",
       "      <td>73000000</td>\n",
       "      <td>269</td>\n",
       "      <td>73000000.0</td>\n",
       "      <td>0.787234</td>\n",
       "      <td>4.7</td>\n",
       "      <td>9.272973e+07</td>\n",
       "      <td>7.300000e+07</td>\n",
       "      <td>5.746809e+07</td>\n",
       "      <td>(1000000, 10000000]</td>\n",
       "      <td>1</td>\n",
       "    </tr>\n",
       "    <tr>\n",
       "      <th>12</th>\n",
       "      <td>8.437718e+04</td>\n",
       "      <td>8.437718e+04</td>\n",
       "      <td>1</td>\n",
       "      <td>1.000000</td>\n",
       "      <td>6</td>\n",
       "      <td>4000000</td>\n",
       "      <td>347</td>\n",
       "      <td>4000000.0</td>\n",
       "      <td>0.787234</td>\n",
       "      <td>4.7</td>\n",
       "      <td>5.081081e+06</td>\n",
       "      <td>4.000000e+06</td>\n",
       "      <td>3.148936e+06</td>\n",
       "      <td>(50000, 100000]</td>\n",
       "      <td>1</td>\n",
       "    </tr>\n",
       "    <tr>\n",
       "      <th>13</th>\n",
       "      <td>2.401118e+06</td>\n",
       "      <td>2.396323e+06</td>\n",
       "      <td>3</td>\n",
       "      <td>0.998003</td>\n",
       "      <td>6</td>\n",
       "      <td>100000000</td>\n",
       "      <td>380</td>\n",
       "      <td>100000000.0</td>\n",
       "      <td>0.787234</td>\n",
       "      <td>4.7</td>\n",
       "      <td>1.270270e+08</td>\n",
       "      <td>9.980031e+07</td>\n",
       "      <td>7.856620e+07</td>\n",
       "      <td>(1000000, 10000000]</td>\n",
       "      <td>1</td>\n",
       "    </tr>\n",
       "    <tr>\n",
       "      <th>16</th>\n",
       "      <td>2.490496e+04</td>\n",
       "      <td>2.490496e+04</td>\n",
       "      <td>1</td>\n",
       "      <td>1.000000</td>\n",
       "      <td>6</td>\n",
       "      <td>10000000</td>\n",
       "      <td>647</td>\n",
       "      <td>10000000.0</td>\n",
       "      <td>0.787234</td>\n",
       "      <td>4.7</td>\n",
       "      <td>1.270270e+07</td>\n",
       "      <td>1.000000e+07</td>\n",
       "      <td>7.872340e+06</td>\n",
       "      <td>(10000, 50000]</td>\n",
       "      <td>1</td>\n",
       "    </tr>\n",
       "    <tr>\n",
       "      <th>17</th>\n",
       "      <td>1.530477e+05</td>\n",
       "      <td>1.530477e+05</td>\n",
       "      <td>1</td>\n",
       "      <td>1.000000</td>\n",
       "      <td>6</td>\n",
       "      <td>15400000</td>\n",
       "      <td>654</td>\n",
       "      <td>10000000.0</td>\n",
       "      <td>0.511191</td>\n",
       "      <td>4.7</td>\n",
       "      <td>1.956216e+07</td>\n",
       "      <td>1.540000e+07</td>\n",
       "      <td>7.872340e+06</td>\n",
       "      <td>(100000, 300000]</td>\n",
       "      <td>1</td>\n",
       "    </tr>\n",
       "  </tbody>\n",
       "</table>\n",
       "</div>"
      ],
      "text/plain": [
       "       all_gmv12  amazon_gmv12  amazon_num  amazon_ratio months  \\\n",
       "1   1.159085e+06  1.159085e+06           1      1.000000      6   \n",
       "6   1.196994e+05  1.196994e+05           2      1.000000      6   \n",
       "7   4.328191e+05  8.164567e+02           1      1.000000      6   \n",
       "9   9.174475e+04  9.174475e+04           2      1.000000      6   \n",
       "10  2.232248e+05  2.232248e+05           1      1.000000      6   \n",
       "11  1.289099e+06  1.289099e+06           3      1.000000      6   \n",
       "12  8.437718e+04  8.437718e+04           1      1.000000      6   \n",
       "13  2.401118e+06  2.396323e+06           3      0.998003      6   \n",
       "16  2.490496e+04  2.490496e+04           1      1.000000      6   \n",
       "17  1.530477e+05  1.530477e+05           1      1.000000      6   \n",
       "\n",
       "    total_amount_cents  transport_id  use_amount_cents  withdrawal_rate  \\\n",
       "1             50000000            28        50000000.0         0.787234   \n",
       "6             10000000           115        10000000.0         0.787234   \n",
       "7             20000000           129        20000000.0         0.787234   \n",
       "9              5000000           203         5000000.0         0.787234   \n",
       "10            11000000           224        11000000.0         0.787234   \n",
       "11            73000000           269        73000000.0         0.787234   \n",
       "12             4000000           347         4000000.0         0.787234   \n",
       "13           100000000           380       100000000.0         0.787234   \n",
       "16            10000000           647        10000000.0         0.787234   \n",
       "17            15400000           654        10000000.0         0.511191   \n",
       "\n",
       "    exchange_rate  real_granted_amount  amazon_granted  amazon_withdrawal  \\\n",
       "1             4.7         6.351351e+07    5.000000e+07       3.936170e+07   \n",
       "6             4.7         1.270270e+07    1.000000e+07       7.872340e+06   \n",
       "7             4.7         2.540541e+07    2.000000e+07       1.574468e+07   \n",
       "9             4.7         6.351351e+06    5.000000e+06       3.936170e+06   \n",
       "10            4.7         1.397297e+07    1.100000e+07       8.659574e+06   \n",
       "11            4.7         9.272973e+07    7.300000e+07       5.746809e+07   \n",
       "12            4.7         5.081081e+06    4.000000e+06       3.148936e+06   \n",
       "13            4.7         1.270270e+08    9.980031e+07       7.856620e+07   \n",
       "16            4.7         1.270270e+07    1.000000e+07       7.872340e+06   \n",
       "17            4.7         1.956216e+07    1.540000e+07       7.872340e+06   \n",
       "\n",
       "         amazon_gmv_bin  cnt  \n",
       "1   (1000000, 10000000]    1  \n",
       "6      (100000, 300000]    1  \n",
       "7            (0, 10000]    1  \n",
       "9       (50000, 100000]    1  \n",
       "10     (100000, 300000]    1  \n",
       "11  (1000000, 10000000]    1  \n",
       "12      (50000, 100000]    1  \n",
       "13  (1000000, 10000000]    1  \n",
       "16       (10000, 50000]    1  \n",
       "17     (100000, 300000]    1  "
      ]
     },
     "execution_count": 202,
     "metadata": {},
     "output_type": "execute_result"
    }
   ],
   "source": [
    "all_amazon.head(10)"
   ]
  },
  {
   "cell_type": "code",
   "execution_count": null,
   "metadata": {
    "collapsed": true
   },
   "outputs": [],
   "source": [
    "testa = [1,3,2]"
   ]
  },
  {
   "cell_type": "code",
   "execution_count": 4,
   "metadata": {
    "collapsed": true
   },
   "outputs": [],
   "source": [
    "class Solution(object):\n",
    "    def loudAndRich(self, richer, quiet):\n",
    "        \"\"\"\n",
    "        :type richer: List[List[int]]\n",
    "        :type quiet: List[int]\n",
    "        :rtype: List[int]\n",
    "        \"\"\"\n",
    "        \n",
    "        size = len(quiet)\n",
    "        \n",
    "        dicts = {}\n",
    "        for v in richer:\n",
    "            i, j = v\n",
    "            if j in dicts:\n",
    "                dicts[j].append(i)\n",
    "            else:\n",
    "                dicts[j] = [i]\n",
    "        \n",
    "        self.res = {}\n",
    "        \n",
    "        print dicts, 123\n",
    "        \n",
    "        def get_ans(arr):\n",
    "            if arr not in dicts:\n",
    "                return quiet[arr], arr\n",
    "            if arr in self.res:\n",
    "                return self.res[arr]\n",
    "            \n",
    "#             print 111\n",
    "            ans = []\n",
    "            for v in dicts[arr]:\n",
    "                ans.append((quiet[v], v))\n",
    "                ans.append((get_ans(v)))\n",
    "            \n",
    "            print ans, 123\n",
    "            self.res[arr] = min(ans)\n",
    "            return self.res[arr]\n",
    "        \n",
    "        print self.res\n",
    "                \n",
    "        return [get_ans(v)[1] for v in range(size)]\n",
    "        "
   ]
  },
  {
   "cell_type": "code",
   "execution_count": 5,
   "metadata": {
    "collapsed": true
   },
   "outputs": [],
   "source": [
    "test = Solution()"
   ]
  },
  {
   "cell_type": "code",
   "execution_count": 6,
   "metadata": {
    "collapsed": false
   },
   "outputs": [
    {
     "name": "stdout",
     "output_type": "stream",
     "text": [
      "{0: [1], 1: [2, 3], 3: [4, 5, 6], 7: [3]} 123\n",
      "{}\n",
      "[(6, 4), (6, 4), (1, 5), (1, 5), (7, 6), (7, 6)] 123\n",
      "[(5, 2), (5, 2), (4, 3), (1, 5)] 123\n",
      "[(2, 1), (1, 5)] 123\n",
      "[(4, 3), (1, 5)] 123\n"
     ]
    },
    {
     "data": {
      "text/plain": [
       "[5, 5, 2, 5, 4, 5, 6, 5]"
      ]
     },
     "execution_count": 6,
     "metadata": {},
     "output_type": "execute_result"
    }
   ],
   "source": [
    "arr1=[[1,0],[2,1],[3,1],[3,7],[4,3],[5,3],[6,3]]\n",
    "arr2=[3,2,5,4,6,1,7,0]\n",
    "test.loudAndRich(arr1,arr2)"
   ]
  },
  {
   "cell_type": "code",
   "execution_count": null,
   "metadata": {
    "collapsed": true
   },
   "outputs": [],
   "source": []
  }
 ],
 "metadata": {
  "kernelspec": {
   "display_name": "Python [default]",
   "language": "python",
   "name": "python2"
  },
  "language_info": {
   "codemirror_mode": {
    "name": "ipython",
    "version": 2
   },
   "file_extension": ".py",
   "mimetype": "text/x-python",
   "name": "python",
   "nbconvert_exporter": "python",
   "pygments_lexer": "ipython2",
   "version": "2.7.12"
  }
 },
 "nbformat": 4,
 "nbformat_minor": 1
}
