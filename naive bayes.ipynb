{
 "cells": [
  {
   "cell_type": "code",
   "execution_count": 1,
   "metadata": {
    "collapsed": false
   },
   "outputs": [
    {
     "name": "stderr",
     "output_type": "stream",
     "text": [
      "/Users/yixin/anaconda2/lib/python2.7/site-packages/matplotlib/font_manager.py:273: UserWarning: Matplotlib is building the font cache using fc-list. This may take a moment.\n",
      "  warnings.warn('Matplotlib is building the font cache using fc-list. This may take a moment.')\n"
     ]
    }
   ],
   "source": [
    "#coding=utf-8\n",
    "import pandas as pd\n",
    "import numpy as np\n",
    "from sklearn.model_selection import train_test_split\n",
    "from sklearn.preprocessing import StandardScaler\n",
    "\n",
    "import matplotlib.pyplot as plt"
   ]
  },
  {
   "cell_type": "code",
   "execution_count": 4,
   "metadata": {
    "collapsed": false
   },
   "outputs": [
    {
     "data": {
      "text/plain": [
       "'1.14.0'"
      ]
     },
     "execution_count": 4,
     "metadata": {},
     "output_type": "execute_result"
    }
   ],
   "source": [
    "np.__version__"
   ]
  },
  {
   "cell_type": "markdown",
   "metadata": {},
   "source": [
    "### load data"
   ]
  },
  {
   "cell_type": "code",
   "execution_count": 3,
   "metadata": {
    "collapsed": false
   },
   "outputs": [],
   "source": [
    "def get_multi_data():\n",
    "    x = np.array([\n",
    "        [1, 1, 1, 1, 1, 2, 2, 2, 2, 2, 3, 3, 3, 3, 3],\n",
    "        [4, 5, 5, 4, 4, 4, 5, 5, 6, 6, 6, 5, 5, 6, 6]\n",
    "    ])\n",
    "\n",
    "    x = x.T\n",
    "    \n",
    "    y = np.array([-1, -1, 1, 1, -1, -1, -1, 1, 1, 1, 1, 1, 1, 1, -1])\n",
    "    return x, y"
   ]
  },
  {
   "cell_type": "code",
   "execution_count": 13,
   "metadata": {
    "collapsed": false
   },
   "outputs": [
    {
     "data": {
      "text/plain": [
       "array([[1, 4],\n",
       "       [1, 5],\n",
       "       [1, 5],\n",
       "       [1, 4],\n",
       "       [1, 4],\n",
       "       [2, 4],\n",
       "       [2, 5],\n",
       "       [2, 5],\n",
       "       [2, 6],\n",
       "       [2, 6],\n",
       "       [3, 6],\n",
       "       [3, 5],\n",
       "       [3, 5],\n",
       "       [3, 6],\n",
       "       [3, 6]])"
      ]
     },
     "execution_count": 13,
     "metadata": {},
     "output_type": "execute_result"
    }
   ],
   "source": [
    "x"
   ]
  },
  {
   "cell_type": "code",
   "execution_count": 14,
   "metadata": {
    "collapsed": false
   },
   "outputs": [
    {
     "name": "stdout",
     "output_type": "stream",
     "text": [
      "0 [1 1 1 1 1 2 2 2 2 2 3 3 3 3 3]\n",
      "1 [4 5 5 4 4 4 5 5 6 6 6 5 5 6 6]\n"
     ]
    }
   ],
   "source": [
    "for k, v in enumerate(x.T):\n",
    "    print k, v"
   ]
  },
  {
   "cell_type": "code",
   "execution_count": 50,
   "metadata": {
    "collapsed": true
   },
   "outputs": [],
   "source": [
    "class NaiveBayes(object):\n",
    "    def __init__(self):\n",
    "        self.y_class = {}\n",
    "        self.y_x_prob = {}\n",
    "        \n",
    "    def fit(self, X, y):\n",
    "        self.cal_y_prob(y)\n",
    "        self.cal_x_prob(X, y)\n",
    "        \n",
    "    def cal_y_prob(self, y):\n",
    "        \"\"\"\n",
    "        cal each class's prior probability\n",
    "        \"\"\"\n",
    "        n_samples = len(y) * 1.0\n",
    "        \n",
    "        classes, count = np.unique(y, return_counts=True)\n",
    "        \n",
    "        for k, v in zip(classes, count):\n",
    "            self.y_class[k] = v / n_samples\n",
    "            \n",
    "    def cal_x_prob(self, X, y):\n",
    "        \"\"\"\n",
    "        cal p(x|yi)\n",
    "        \"\"\"\n",
    "        \n",
    "        y_class = np.unique(y)\n",
    "        \n",
    "        for i in y_class:\n",
    "            self.y_x_prob[i] = {}\n",
    "            \n",
    "            idxs = np.where(y==i)[0]\n",
    "            \n",
    "            for k, v in enumerate(X.T):\n",
    "                xk_prob = {}\n",
    "\n",
    "                for idx in idxs:\n",
    "                    xk_prob[v[idx]] = xk_prob.get(v[idx], 0) + 1\n",
    "                    \n",
    "                for j in xk_prob:\n",
    "                    xk_prob[j] = xk_prob[j] * 1.0 / len(idxs)\n",
    "                    \n",
    "                self.y_x_prob[i][k] = xk_prob\n",
    "    \n",
    "    def predict_once(self, x):\n",
    "        ans = {}\n",
    "        \n",
    "        for i in self.y_class:\n",
    "            y_prob = self.y_class[i]\n",
    "            \n",
    "            for k, v in enumerate(x):\n",
    "                y_prob *= self.y_x_prob[i][k][v]\n",
    "            \n",
    "            ans[i] = y_prob\n",
    "        \n",
    "        return np.array(ans)\n",
    "    \n",
    "    def predict(self, x):\n",
    "        if x.ndim == 1:\n",
    "            return self.predict_once(x)\n",
    "        else:\n",
    "            pres = []\n",
    "            for i in xrange(x.shape[0]):\n",
    "                pres.append(self.predict_once(x[i]))\n",
    "            return np.array(pres)[:, np.newaxis]\n",
    "        \n",
    "    def get_x_prob(self):\n",
    "        return self.y_x_prob\n",
    "    \n",
    "    def get_y_prob(self):\n",
    "        return self.y_class\n",
    "        "
   ]
  },
  {
   "cell_type": "code",
   "execution_count": 23,
   "metadata": {
    "collapsed": true
   },
   "outputs": [],
   "source": [
    "X, y = get_multi_data()"
   ]
  },
  {
   "cell_type": "code",
   "execution_count": 51,
   "metadata": {
    "collapsed": true
   },
   "outputs": [],
   "source": [
    "nb = NaiveBayes()"
   ]
  },
  {
   "cell_type": "code",
   "execution_count": 52,
   "metadata": {
    "collapsed": false
   },
   "outputs": [],
   "source": [
    "nb.fit(X,y)"
   ]
  },
  {
   "cell_type": "code",
   "execution_count": 58,
   "metadata": {
    "collapsed": false
   },
   "outputs": [
    {
     "data": {
      "text/plain": [
       "array([[array({1: 0.02222222222222222, -1: 0.06666666666666667}, dtype=object)],\n",
       "       [array({1: 0.059259259259259255, -1: 0.06666666666666667}, dtype=object)]],\n",
       "      dtype=object)"
      ]
     },
     "execution_count": 58,
     "metadata": {},
     "output_type": "execute_result"
    }
   ],
   "source": [
    "test = np.array([[2,4], [1,5]])\n",
    "nb.predict(test)"
   ]
  },
  {
   "cell_type": "code",
   "execution_count": 64,
   "metadata": {
    "collapsed": false
   },
   "outputs": [
    {
     "data": {
      "image/png": "[encoded data removed]",
      "text/plain": [
       "<matplotlib.figure.Figure at 0x10f6186d0>"
      ]
     },
     "metadata": {},
     "output_type": "display_data"
    }
   ],
   "source": [
    "a = np.linspace(0, 10, 20)\n",
    "\n",
    "plt.plot(a, np.log(a) )\n",
    "plt.show()"
   ]
  },
  {
   "cell_type": "code",
   "execution_count": 36,
   "metadata": {
    "collapsed": true
   },
   "outputs": [],
   "source": [
    "class NaiveBayes(object):\n",
    "    def __init__(self):\n",
    "        self.y_classes = {}\n",
    "        self.y_x = {}\n",
    "        \n",
    "    def fit(self, x, y):\n",
    "        self.get_y_classes(y)\n",
    "        self.get_y_x_classes(x, y)\n",
    "        \n",
    "    def get_y_classes(self, y):\n",
    "        classes, nums = np.unique(y, return_counts=True)\n",
    "        n_samples = len(y) * 1.0\n",
    "        \n",
    "        for k, v in zip(classes, nums):\n",
    "            self.y_classes[k] = v / n_samples\n",
    "            \n",
    "    def get_y_x_classes(self, x, y):\n",
    "        for label in self.y_classes.keys():\n",
    "            self.y_x[label] = {}\n",
    "            idxs = np.where(y==label)[0]\n",
    "            \n",
    "            for k, v in enumerate(x.T):\n",
    "#                 print k, v\n",
    "                tmp = {}\n",
    "                \n",
    "                for idx in idxs:\n",
    "                    tmp[v[idx]] = tmp.get(v[idx], 0) + 1\n",
    "                    \n",
    "                for j in tmp:\n",
    "                    tmp[j] = tmp[j] * 1.0 / len(idxs)\n",
    "                \n",
    "                self.y_x[label][k] = tmp\n",
    "    \n",
    "    def predict_once(self, x):\n",
    "        \n",
    "        ans = {}\n",
    "        \n",
    "        for label in self.y_classes:\n",
    "            tmp = self.y_classes[label]\n",
    "            \n",
    "            for k, v in enumerate(x):\n",
    "                tmp *= self.y_x[label][k][v]\n",
    "            ans[label] = tmp\n",
    "        return np.array(ans)\n",
    "    \n",
    "    def predict(self, x):\n",
    "        pres = []\n",
    "        for v in x:\n",
    "            pres.append(self.predict_once(v))\n",
    "        \n",
    "        return np.array(pres)[:, np.newaxis]\n",
    "        \n",
    "        "
   ]
  },
  {
   "cell_type": "code",
   "execution_count": 37,
   "metadata": {
    "collapsed": true
   },
   "outputs": [],
   "source": [
    "nb = NaiveBayes()"
   ]
  },
  {
   "cell_type": "code",
   "execution_count": 38,
   "metadata": {
    "collapsed": false
   },
   "outputs": [],
   "source": [
    "nb.fit(X,y)"
   ]
  },
  {
   "cell_type": "code",
   "execution_count": 39,
   "metadata": {
    "collapsed": false
   },
   "outputs": [
    {
     "data": {
      "text/plain": [
       "array([[array({1: 0.02222222222222222, -1: 0.06666666666666667}, dtype=object)],\n",
       "       [array({1: 0.059259259259259255, -1: 0.06666666666666667}, dtype=object)]],\n",
       "      dtype=object)"
      ]
     },
     "execution_count": 39,
     "metadata": {},
     "output_type": "execute_result"
    }
   ],
   "source": [
    "test = np.array([[2,4], [1,5]])\n",
    "nb.predict(test)"
   ]
  },
  {
   "cell_type": "code",
   "execution_count": 48,
   "metadata": {
    "collapsed": true
   },
   "outputs": [],
   "source": [
    "class NaiveBayes(object):\n",
    "    def __init__(self):\n",
    "        self.y = {}\n",
    "        self.y_x = {}\n",
    "        \n",
    "    def fit(self, x, y):\n",
    "        self.get_y_pre(y)\n",
    "        self.get_y_x_pre(x, y)\n",
    "        \n",
    "    def get_y_pre(self, y):\n",
    "        n_classes, n_nums = np.unique(y, return_counts=True)\n",
    "        n_samples = len(y) * 1.0\n",
    "        for k, v in zip(n_classes, n_nums):\n",
    "            self.y[k] = v / n_samples\n",
    "    \n",
    "    def get_y_x_pre(self, x, y):\n",
    "        for k in self.y.keys():\n",
    "            self.y_x[k] = {}\n",
    "            \n",
    "            idxs = np.where(y==k)[0]\n",
    "            \n",
    "            for i, j in enumerate(x.T):\n",
    "                tmp = {}\n",
    "                for idx in idxs:\n",
    "                    tmp[j[idx]] = tmp.get(j[idx], 0) + 1\n",
    "                \n",
    "                nums = len(idxs) * 1.0\n",
    "                for v in tmp:\n",
    "                    tmp[v] /= nums\n",
    "                \n",
    "                self.y_x[k][i] = tmp\n",
    "    \n",
    "    def predict_once(self, x):\n",
    "        ans = {}\n",
    "        for label in self.y:\n",
    "            pre = self.y[label]\n",
    "            \n",
    "            for v in range(len(x)):\n",
    "                pre *= self.y_x[label][v][x[v]]\n",
    "            \n",
    "            ans[label] = pre\n",
    "            \n",
    "        return ans\n",
    "    \n",
    "    def predict(self, x):\n",
    "        return np.array([self.predict_once(v) for v in x])#[:, np.newaxis]\n",
    "            \n",
    "            \n",
    "            "
   ]
  },
  {
   "cell_type": "code",
   "execution_count": 49,
   "metadata": {
    "collapsed": false
   },
   "outputs": [
    {
     "data": {
      "text/plain": [
       "array([{1: 0.02222222222222222, -1: 0.06666666666666667},\n",
       "       {1: 0.059259259259259255, -1: 0.06666666666666667}], dtype=object)"
      ]
     },
     "execution_count": 49,
     "metadata": {},
     "output_type": "execute_result"
    }
   ],
   "source": [
    "nb = NaiveBayes()\n",
    "nb.fit(X,y)\n",
    "test = np.array([[2,4], [1,5]])\n",
    "nb.predict(test)"
   ]
  },
  {
   "cell_type": "code",
   "execution_count": null,
   "metadata": {
    "collapsed": true
   },
   "outputs": [],
   "source": []
  }
 ],
 "metadata": {
  "anaconda-cloud": {},
  "kernelspec": {
   "display_name": "Python [default]",
   "language": "python",
   "name": "python2"
  },
  "language_info": {
   "codemirror_mode": {
    "name": "ipython",
    "version": 2
   },
   "file_extension": ".py",
   "mimetype": "text/x-python",
   "name": "python",
   "nbconvert_exporter": "python",
   "pygments_lexer": "ipython2",
   "version": "2.7.12"
  }
 },
 "nbformat": 4,
 "nbformat_minor": 1
}
